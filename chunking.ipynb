{
 "cells": [
  {
   "cell_type": "code",
   "execution_count": 16,
   "metadata": {},
   "outputs": [],
   "source": [
    "import hashlib\n",
    "import logging\n",
    "import os\n",
    "import pickle\n",
    "import re\n",
    "\n",
    "import bs4\n",
    "import numpy as np\n",
    "import pandas as pd\n",
    "import torch\n",
    "from dotenv import load_dotenv\n",
    "from langchain_community.document_loaders import DirectoryLoader, WebBaseLoader\n",
    "from langchain_core.documents import Document\n",
    "from langchain_experimental.text_splitter import SemanticChunker\n",
    "from langchain_huggingface.embeddings.huggingface import HuggingFaceEmbeddings\n",
    "from langchain_openai.embeddings import OpenAIEmbeddings\n",
    "from langchain_pinecone import PineconeVectorStore\n",
    "from langchain_text_splitters import (CharacterTextSplitter,\n",
    "                                      RecursiveCharacterTextSplitter)\n",
    "from pinecone import Pinecone, ServerlessSpec\n",
    "from pinecone.data.index import Index\n",
    "from tqdm import tqdm\n",
    "from typing_extensions import List, TypedDict"
   ]
  },
  {
   "cell_type": "code",
   "execution_count": 2,
   "metadata": {},
   "outputs": [
    {
     "data": {
      "text/plain": [
       "'cuda'"
      ]
     },
     "execution_count": 2,
     "metadata": {},
     "output_type": "execute_result"
    }
   ],
   "source": [
    "# from rag_pipeline import RetrieverModel\n",
    "DEVICE = ('cuda' if torch.cuda.is_available() else\n",
    "          'mps' if torch.backends.mps.is_available() else 'cpu')\n",
    "DEVICE"
   ]
  },
  {
   "cell_type": "code",
   "execution_count": 3,
   "metadata": {},
   "outputs": [],
   "source": [
    "embeddings = HuggingFaceEmbeddings(model_name='all-mpnet-base-v2',\n",
    "                                   model_kwargs={'device': DEVICE})\n",
    "# dimension = len(embeddings.embed_documents(['test'])[0])\n",
    "# dimension"
   ]
  },
  {
   "cell_type": "code",
   "execution_count": 4,
   "metadata": {},
   "outputs": [],
   "source": [
    "pc = Pinecone()\n",
    "pc_index = pc.Index('chunking-test')\n",
    "vector_store = PineconeVectorStore(pc_index, embeddings)"
   ]
  },
  {
   "cell_type": "code",
   "execution_count": 5,
   "metadata": {},
   "outputs": [
    {
     "name": "stderr",
     "output_type": "stream",
     "text": [
      "100%|██████████| 136/136 [01:41<00:00,  1.34it/s]\n"
     ]
    }
   ],
   "source": [
    "loader = DirectoryLoader('raw_data', glob='**/*.txt',\n",
    "                         show_progress=True, use_multithreading=False)\n",
    "docs = loader.load()"
   ]
  },
  {
   "cell_type": "code",
   "execution_count": 8,
   "metadata": {},
   "outputs": [
    {
     "data": {
      "text/plain": [
       "['raw_data/firesale.txt',\n",
       " 'raw_data/sports_pittsburgh_wiki.txt',\n",
       " 'raw_data/pittsburghvisit_conbined.txt',\n",
       " 'raw_data/citypittsburgh_conbined.txt',\n",
       " 'raw_data/pirates/pirates_nonroster.txt',\n",
       " 'raw_data/pirates/pirates_roster.txt',\n",
       " 'raw_data/pirates/pirate_coach_info.txt',\n",
       " 'raw_data/pirates/pirates_schedule_2025.txt',\n",
       " 'raw_data/pirates/pirate_transaction_info.txt',\n",
       " 'raw_data/tax_info/tax_website.txt']"
      ]
     },
     "execution_count": 8,
     "metadata": {},
     "output_type": "execute_result"
    }
   ],
   "source": [
    "[doc.metadata['source'] for doc in docs[:10]]"
   ]
  },
  {
   "cell_type": "code",
   "execution_count": 9,
   "metadata": {},
   "outputs": [
    {
     "name": "stderr",
     "output_type": "stream",
     "text": [
      "100%|██████████| 136/136 [05:43<00:00,  2.53s/it]\n"
     ]
    }
   ],
   "source": [
    "text_splitter = SemanticChunker(embeddings)\n",
    "chunks = [chunk for doc in tqdm(docs)\n",
    "          for chunk in text_splitter.split_documents([doc])]"
   ]
  },
  {
   "cell_type": "code",
   "execution_count": 12,
   "metadata": {},
   "outputs": [],
   "source": [
    "with open('semantic_chunks.pkl', 'wb') as f:\n",
    "    pickle.dump(chunks, f)"
   ]
  },
  {
   "cell_type": "code",
   "execution_count": 13,
   "metadata": {},
   "outputs": [
    {
     "data": {
      "text/plain": [
       "8156"
      ]
     },
     "execution_count": 13,
     "metadata": {},
     "output_type": "execute_result"
    }
   ],
   "source": [
    "len(chunks)"
   ]
  },
  {
   "cell_type": "code",
   "execution_count": 15,
   "metadata": {},
   "outputs": [],
   "source": [
    "lengths = [len(chunk.page_content) for chunk in chunks]"
   ]
  },
  {
   "cell_type": "code",
   "execution_count": 17,
   "metadata": {},
   "outputs": [
    {
     "data": {
      "text/plain": [
       "count      8156.000000\n",
       "mean       3356.156081\n",
       "std       12992.914470\n",
       "min           0.000000\n",
       "25%         405.000000\n",
       "50%        1453.500000\n",
       "75%        3428.250000\n",
       "max      375970.000000\n",
       "dtype: float64"
      ]
     },
     "execution_count": 17,
     "metadata": {},
     "output_type": "execute_result"
    }
   ],
   "source": [
    "lengths = pd.Series(lengths)\n",
    "lengths.describe()"
   ]
  },
  {
   "cell_type": "code",
   "execution_count": 28,
   "metadata": {},
   "outputs": [
    {
     "data": {
      "text/plain": [
       "count     7727.000000\n",
       "mean      2032.916009\n",
       "std       2169.957951\n",
       "min          0.000000\n",
       "25%        368.500000\n",
       "50%       1261.000000\n",
       "75%       2991.000000\n",
       "max      10000.000000\n",
       "dtype: float64"
      ]
     },
     "execution_count": 28,
     "metadata": {},
     "output_type": "execute_result"
    }
   ],
   "source": [
    "lengths[lengths <= 10000].describe()"
   ]
  },
  {
   "cell_type": "code",
   "execution_count": 25,
   "metadata": {},
   "outputs": [
    {
     "name": "stdout",
     "output_type": "stream",
     "text": [
      "URL: https://en.wikipedia.org/wiki/Sports_in_Pittsburgh\n",
      "\n",
      "TITLE: Sports_in_Pittsburgh\n",
      "\n",
      "CONTENT:\n",
      "\n",
      "See also: American football in Western Pennsylvania Main article: Pittsburgh As the home of the MLB 's Pittsburgh Pirates baseball team, PNC Park is located in North Shore , in front of the Allegheny River , Roberto Clemente Bridge , and the Pittsburgh city skyline . Sports in Pittsburgh have been played dating back to the American Civil War . Baseball , hockey , and the first professional American football game had been played in the city by 1892. Pittsburgh was first known as the \"City of Champions\" when the Pittsburgh Pirates , Pittsburgh Panthers football team , and Pittsburgh Steelers won multiple championships in the 1970s. [ 1 ] Today, the city has three major professional sports franchises, the Pirates, Steelers, and Penguins ; while the University of Pittsburgh Panthers compete in a Division I Power Five conference , the highest level of collegiate athletics in the United States, in both football and basketball. Local universities Duquesne and Robert Morris also field Division I teams in men's and women's basketball and Division I FCS teams in football. Robert Morris also fields Division I men's and women's ice hockey teams. Pittsburgh's major teams have seen great success, with the MLB's Pirates winning 5 World Series titles, the NHL's Penguins winning 5 Stanley Cups, and the NFL's Steelers winning a tied league record 6 Super Bowls. The Pittsburgh Panthers have also been successful in the NCAA with 9 national championships in football and 2 in basketball. The flag of Pittsburgh is colored with black and gold, based on the colors of William Pitt 's coat of arms ; Pittsburgh is the only city in the United States in which all professional sporting teams share the same colors. The city's first National Hockey League (NHL) franchise, the Pittsburgh Pirates , and that team's non-NHL predecessor, the Pittsburgh Yellow Jackets , wore black and gold as their colors in the 1920s. The colors were adopted by founder of the Pittsburgh Steelers, Art Rooney , in 1933. In 1948, the Pittsburgh baseball Pirates switched their colors from red and blue to black and gold. Pittsburgh's second NHL franchise, the Pittsburgh Penguins , wore blue and white, due to then-general manager Jack Riley's upbringing in Ontario . In 1979, after the Steelers and Pirates had each won their respective league championships, the Penguins altered their color scheme to match, despite objections from the Boston Bruins , [ 2 ] [ 3 ] who have used the black and gold combination since the 1935–36 NHL season . [ 4 ] [ 5 ] In 1975, late Steelers radio broadcaster Myron Cope invented the Terrible Towel , which has become \"arguably the best-known fan symbol of any major pro sports team.\" [ 6 ] Cope was one of multiple sports figures born in Pittsburgh and its surrounding area; others include golfer Arnold Palmer , Olympian and retired professional wrestler Kurt Angle , and basketball player Jack Twyman . Pittsburgh is also sometimes called the \"Cradle of Quarterbacks\" [ 7 ] [ 8 ] due to the number of prominent players of that position who hail from the area, including NFL greats Jim Kelly , George Blanda , Johnny Unitas , Joe Namath , Dan Marino , and Joe Montana . The hometown Pittsburgh Penguins NHL ice hockey team defeats the Washington Capitals in Game 7 of the 2017 Stanley Cup playoffs second round en route to winning the Stanley Cup championship two rounds later. As of 2024, this is the most recent major league sports championship won by a Pittsburgh team. Professional team sports [ edit ] The City of Pittsburgh has had various professional sports franchises throughout its history and today is home to three teams competing at the highest professional level in their respective sports: the Pittsburgh Pirates of the MLB , the Pittsburgh Steelers of the NFL , and the Pittsburgh Penguins of the NHL . Major League Professional Teams [ edit ] Franchise Founded Sport Current Venue League Championships Pittsburgh Pirates 1882 Baseball PNC Park Major League Baseball 5 World Series Pittsburgh Steelers 1933 American football Acrisure Stadium National Football League 6 Super Bowls Pittsburgh Penguins 1967 Ice hockey PPG Paints Arena National Hockey League 5 Stanley Cups Minor League Professional Teams [ edit ] Franchise Founded Sport Current Venue League Championships Pittsburgh Riverhounds SC 1999 Soccer Highmark Stadium USL Championship Pittsburgh Passion 2003 Women's American football West Allegheny High School Women's Football Alliance 3 Women's Football Championships Steel City Yellow Jackets 2014 Basketball A Giving Heart Community Center American Basketball Association 1 ABA Championship Pittsburgh Thunderbirds 2015 Ultimate Highmark Stadium Ultimate Frisbee Association Steel City Queens 2018 Women's basketball A Giving Heart Community Center Women's American Basketball Association Pittsburgh Steeltoes 2023 Rugby sevens Premier Rugby Sevens Top Tier Amateur Teams [ edit ] Franchise Founded Sport Current Venue League Championships Steel City FC 2019 Soccer Founder's Field USL League Two Steel City FC (Women) 2015 Women's soccer USL W League Pittsburgh Riveters SC 2024 Women's soccer Highmark Stadium USL W League Baseball [ edit ] We had 'em all the way Pirates broadcaster Bob Prince , after a comeback [ 9 ] Prior to 1876, three amateur Pittsburgh baseball teams—the Enterprise, the Xanthas, and the Olympics—competed, most often at Recreation Park . [ 10 ] On April 15, 1876, Recreation Park was the site of a game between the Xanthas and the Pittsburgh Alleghenies (alternately spelled \"Alleghenys\" [ 11 ] ), an unrelated forerunner to the \"Alleghenys\" team which would later be renamed the Pirates. The Alleghenies won the game 7–3. [ 12 ] The 1877 squad was the most successful yet, finishing within 1 game of the pennant in the International Association ; only a Canadian team had a better record, allowing the city potential bragging rights for being the best American team that season. 1882 marked the first \"major league\" and fully professional season for the Pittsburgh Alleghenies (Pirates) and in 1887, the Alleghenies moved from American Association to the National League after owner William Nimick became frustrated over a contract dispute. [ 13 ] The Pirates were purchased in 1900 by Barney Dreyfuss , who would go down in history as the \"Father of the modern World Series\" and its precursor, the Chronicle-Telegraph Cup , both of which saw the Pirates participate in the inaugural series. He recruited Hall of Famers Fred Clarke and Pittsburgh native Honus Wagner and built the first concrete and steel (first \"modern\") baseball stadium, Forbes Field . Under Dreyfuss, the Pirates won pre-World Series world titles in 1901 and 1902, National League pennants from 1901–1903, 1909, 1925 and 1927 and World Series in 1909 and 1925. The 1902 squad set major league records for winning percentage and even today is the second most winning team ever fielded in the sport. [ 14 ] The franchise won the World Series three more times— in 1960, 1971, and 1979. In 1960, the team became the first to win a World Series on a walk-off home run, hit by Bill Mazeroski , and they remain the only team to win on a walk-off homer in the decisive seventh game. In 1979, the Pirates repeated the accomplishment of their own 1925 World Series team, coming back from a three-games-to-one deficit, winning three games in a row when facing elimination, for the title. Thus the Pirates became (and they currently remain) the only franchise in the history of all sports to win world titles more than once when coming back from a 3-1 deficit. The 1979 Pirates also are unique in that they are the only team in all sports to have players who captured all four MVP awards:  Seasonal ( Willie Stargell , co-MVP with Keith Hernandez), All Star Game ( Dave Parker ), NLCS (Willie Stargell), and World Series (Willie Stargell) within a single season. [ 15 ] Since 1970 the team has won their division and qualified for the playoffs nine times:  six in the 1970s, and three times in a row from 1990 to 1992. Pirate players have won the league MVP award in 1960 ( Dick Groat ), 1966 ( Roberto Clemente ), 1978 (Dave Parker), 1979 (Willie Stargell), 1990 ( Barry Bonds ), 1992 (Barry Bonds), and 2013 ( Andrew McCutchen ) and the Cy Young Award in 1960 ( Vernon Law ) and 1990 ( Doug Drabek ). In 2001, the team opened PNC Park on the city's North Shore , regularly ranked as one of the top three baseball parks in the country. In addition to the Pirates, the Pittsburgh Stogies , Pittsburgh Burghers and Pittsburgh Rebels played in various leagues from 1884 to 1915. The Rebels won the pennant in 1912 and finished just a half game shy of a pennant in 1915. [ 16 ] The Pittsburgh Keystones , Homestead Grays (playing in the city limits), and Pittsburgh Crawfords played in the Negro leagues . With players including Josh Gibson and Cumberland Posey the Grays won 12 league titles—the most by any Negro league team [ 1 ] —including nine consecutive from 1937 to 1945. The Crawfords finished their eight-year existence with a .633 winning percentage, with a line-up including Gibson, Cool Papa Bell , and Satchel Paige and claimed four straight league titles from 1933 until 1936, with the 1935 team judged by some [ who? ] as the greatest one to ever take the field in the Negro leagues, or perhaps in baseball period. Just as they initially played in the first \"modern\" ballpark in the majors (Forbes Field), Crawfords owner Gus Greenlee constructed the first steel and concrete \"modern\" stadium in the Negro leagues, with Greenlee Field opening in the Hill District on April 29, 1932. [ 17 ] Basketball [ edit ] Pittsburgh South Side won Western Pennsylvania Basketball League and Central Basketball League titles in 1904, 1907 and 1913, coming in second place in 1908, 1911 and 1915. The \" Black Fives \" league enjoyed success in the city with Monticello-Loendi winning national championships in 1912, and four in a row from 1920–23. The Pittsburgh Pirates from 1937–39 and Pittsburgh Raiders in 1944–45 continued professional basketball in the city in the National Basketball League . Pittsburgh had one of the founding members of what became the NBA , the Pittsburgh Ironmen however only played a single season 1947–48 before folding. The Pittsburgh Renaissance (or Rens) played from 1961 until 1963 in the ABL , posting the city's best record in almost 40 years when they finished 2nd in 1962. The most lasting legacy of pro roundball in Pittsburgh was the Pittsburgh Pipers-Pittsburgh Condors of the American Basketball Association from 1967 until 1972. In the first ABA World Championship in 1968, the Pipers defeated the New Orleans Buccaneers , which were owned by Harry Connick Sr. [ citation needed ] After the ABA Pipers/Condors folded in 1972 the city hosted the Pittsburgh Piranhas of the CBA in the mid-1990s. The franchise made it to the championship round in the 1994–95 season. Taking the series into the 6th game the Piranhas lost by a basket in the final seconds (92-94) by what they claimed was an ineligible player, the CBA denied a replay game in what would have been Pittsburgh's second pro-basketball world title. [1] In the late 2000s the Pittsburgh Xplosion , a development league team owned by former NBA player Freddie Lewis , [ 18 ] played in a revamped ABA/CBA at Mellon Arena and the Petersen Events Center before ceasing operations prior to the 2008–09 season because of the economic recession. Another professional basketball team, the Pittsburgh Phantoms of the American Basketball Association , played during the 2009–10 season and held their games at the Carnegie Library of Homestead , but folded prior to the following season. Pittsburgh has hosted dozens of pre-season and 15 regular season \"neutral site\" NBA games, including Wilt Chamberlain 's record setting performance in both consecutive field goals and field goal percentage on February 24, 1967, NBA records that still stand. [ 19 ] Hockey [ edit ] See also: Flyers–Penguins rivalry and Sports in Philadelphia  § Pittsburgh First played in Pittsburgh in 1895, ice hockey grew in popularity after the Duquesne Gardens opened in 1899. In 1901 the Western Pennsylvania Hockey League (WPHL), a semi-professional ice hockey league based in Pittsburgh in the early 1900s, may have been involved in the first trade involving professional hockey players. In 1907, the WPHL was the first league to openly hire hockey players. The league played its games in three Pittsburgh hockey arenas, the Gardens, the Schenley Park Casino and the Winter Garden at Exposition Hall . The Casino, which was destroyed by a fire in 1896, had the first artificial ice surface in North America, was the first place in Pittsburgh where organized ice hockey was played and had the most modern indoor lighting system of the time era, that consisted of 1,500 incandescent lamps, 11 arc lights and 4 white calcium lights. In 1905–1907, the city was represented in the International Professional Hockey League , the first fully professional hockey league, by the Pittsburgh Professionals . Pittsburgh Civic Arena was replaced by the venue now known as PPG Paints Arena in 2010. The Gardens housed the largest indoor rink in the world and was home to the city's first NHL franchise, the Pittsburgh Pirates , from 1925 to 1930. The Gardens also was home to the Pittsburgh Shamrocks and the Pittsburgh Yellow Jackets of the International Hockey League as well as the Pittsburgh Hornets of the American Hockey League . [ 20 ] In 1961, Pittsburgh Civic Arena was constructed for use of the Pittsburgh Civic Light Opera . Founded, by Jack McGregor and Peter Block as part of the 1967 NHL expansion , the Pittsburgh Penguins have played home games in downtown Pittsburgh since their inception—first at the Civic Arena, and since 2010 at PPG Paints Arena. [ 21 ] The Penguins won back-to-back Stanley Cup championships in 1991 and 1992. The franchise recorded their third Stanley Cup in 2009. [ 22 ] The teams included players Mark Recchi , Kevin Stevens , Jaromír Jágr , and Mario Lemieux . [ 23 ] Lemieux holds multiple franchise records and was elected to the Hockey Hall of Fame in 1997. [ 24 ] [ 25 ] He suffered from multiple injuries, including Hodgkin's lymphoma , throughout his career. [ 26 ] In 1999, Lemieux purchased the Penguins and saved the franchise from bankruptcy . He returned to play one year later as the first player/owner of the modern era. [ 27 ] The Penguins, led by top point scorers Evgeni Malkin and Sidney Crosby , returned to the Stanley Cup finals in 2008 and won the franchise's third Cup in 2009. [ 28 ] The franchise recorded their fourth and fifth Stanley Cups consecutively in 2016 and 2017. Football [ edit ] On November 12, 1892, Pudge Heffelfinger was paid $500 to participate in an American football game for the Allegheny Athletic Association . With this transaction, Heffelfinger became the first person to be paid to play football. [ citation needed ] The first professional football game was held at Recreation Park in Pittsburgh. [ citation needed ] Heffelfinger scored the game's only points as the Allegheny Athletic Association defeated the Pittsburgh Athletic Club , 4–0. [ 29 ] [ 30 ] The early professional football era was also represented in Pittsburgh, by top athletic association teams in the Western Pennsylvania Professional Football Circuit . The Duquesne Country and Athletic Club , was the top pro team in the state in 1898 and 1899. The first ever pro football all-star game was played at Exposition Park between the Duquesne Country and Athletic Club and a collection of players from several teams in the area on December 3, 1898. Duquesne won the game 16–0. Later the Homestead Library & Athletic Club , fielded the top pro team in the state in 1900 and 1901. In 1902 the top players in the area, mainly from the Duquesne Country and Athletic Club line-up, formed the Pittsburgh Stars of the first National Football League . The Stars were suspected of being financed by Barney Dreyfuss and William Chase Temple , the owners of baseball's Pittsburgh Pirates. The team featured baseball players in the line-up including Christy Mathewson , a future Hall of Fame pitcher with the New York Giants and Fred Crolius , and outfielder with Pirates. The team won the league's only championship in 1902. In 1933, as the oldest of nine children Art Rooney , who had been raised on the North Side of Pittsburgh, founded the Pittsburgh Steelers . [ 31 ] Originally nicknamed the Pirates, [ 32 ] the team later changed their name to the Steelers, to represent the city's heritage of producing steel . The Steelers' first season with a winning record came in 1942. However, they lost their first playoff game in 1947. [ 33 ] In 1969, the Steelers hired head coach Chuck Noll who strategically drafted players in order to improve the team. [ 34 ] Three years later, in the first playoff game at Three Rivers Stadium Pittsburgh's rookie running back Franco Harris returned an errant pass that bounced off an opposing player for a game-winning touchdown in a play that later became labeled the Immaculate Reception . In 1974, the Steelers won their first Super Bowl in franchise history—a feat which they would repeat in 1975, 1978, and 1979 to become the first NFL franchise to win four Super Bowls. In 1992, Noll was succeeded by Bill Cowher , who led the franchise to its fifth Super Bowl victory in 2005. Mike Tomlin succeeded Cower and led the Steelers to an NFL record sixth Super Bowl victory in 2008. [ 33 ] As of 2009, the Steelers have 18 members in the Pro Football Hall of Fame . [ 35 ] In October 1964, Ernie Stautner , who played on the Steelers from 1950 to 1963, became the only Steelers' player to have his number—70—retired. [ 36 ] Charles \"Mean Joe\" Greene had his number—75—retired in 2014. In 2008, ESPN.com ranked Steelers' fans as the best in the NFL, citing their \"unbelievable\" sellout streak of 299 consecutive games. [ 37 ] [ 38 ] Steelers Chairman Dan Rooney , son of founder Art Rooney, became the majority owner of the Steelers in November 2008 along with his son Art II, after they bought all of the shares of two of his four brothers. [ 39 ] Outside of the NFL, the city was represented by the Pittsburgh Americans of the second American Football League in 1936 and 1937. It was also briefly represented by the Pittsburgh Maulers of the United States Football League , in 1984, and the Pittsburgh Gladiators (which later became the Tampa Bay Storm ), of the Arena Football League from 1987 until 1990. A second Arena Football League team, the Pittsburgh Power , played in the Consol Energy Center from 2011 until 2014. [ 40 ] In addition, Pittsburgh has also been home to women's full-contact football teams. The Pittsburgh Passion were founded in 2002 as members of the National Women's Football Association , then played in the Independent Women's Football League , and then Women's Football Alliance . [ 41 ] The Passion play their home games at West Allegheny High School in nearby Imperial . The team went 12–0 and won a national title in 2007 as members of the NWFA. [ 42 ] The Pittsburgh Rebellion were members of the Legends Football League during the 2017 season with home games at the downtown Highmark Stadium . The \"most established area minor-league football team\" the Pittsburgh Colts are members of the North American Football League 's Regional American Football League. [ 43 ] [ 44 ] The United States Football League (2022) announced that the league would be relaunching in April 2022 and that the Pittsburgh Maulers would be returning [ 45 ] Soccer [ edit ] Pittsburgh Riverhounds SC are members of the USL Championship (second division) and play at Highmark Stadium . [ 46 ] The Riverhounds are one of the oldest professional soccer clubs in the United States operating outside of MLS; the only two older clubs are fellow USL Championship side Charleston Battery and USL League One's Richmond Kickers , both of which were founded in 1993. Like their counterparts, the Steelers, Penguins and Pirates, the Riverhounds are a full-time professional club, and many of their current and former players have represented their countries in international play. In 2024, the USL W League announced that the Riverhounds' ownership group had established a women's team to begin competing in 2025. [ 47 ] Several months later, the club's name, Pittsburgh Riveters SC , and crest were unveiled. [ 48 ] Historic teams such as the suburban Harmarville Hurricanes won the U.S. Open Cup , U.S. Soccer's national championship, with Harmarville winning in 1952 and 1956 and reaching the final in 1953. Pittsburgh area teams Gallatin and Morgan Strasser also won the Open Cup in its earlier years, but since the end of the 1950s, only the Riverhounds have advanced as far as the quarterfinals, which they achieved in 2001 and 2023. The amateur club Pittsburgh Beadling has contested for regional and national titles for over 100 years, winning the National Amateur Cup in 1954, [ 49 ] though Beadling now operates primarily as a youth club. Aldo Donelli , better known as a Duquesne University Football player and coach played soccer with a number of clubs in the 1920s and 1930s and was a member of the United States men's national soccer team during the 1934 FIFA World Cup. He is a member of the National Soccer Hall of Fame. In a 4–2 qualifying victory over Mexico in Rome, Italy on May 24, he tallied all four times, becoming the first American to score his first three international goals with the senior team in the same match. The region's interest in soccer continues as modern stars such as natives Justin Evans , Meghan Klingenberg , Don Malinowski , John Stollmeyer , A. J. Wood and Marvell Wynne II have all achieved international success. Rugby [ edit ] The Pittsburgh Forge Rugby Club are rugby union team based in South Side Pittsburgh . The club formed in 2018 when the Pittsburgh City RC and the Pittsburgh Highlanders combined to form the Forge. The Pittsburgh Forge currently fields two competitive men's senior sides and one competitive women's side. The men currently participate in the Midwest Competition Region (NCR1) at the Division II and Division III levels, and the women also play in the Midwest Competition Region at the Division II level. The Pittsburgh Sledgehammers are a rugby league team based in Cheswick, Pennsylvania (outside of Pittsburgh) which was formed in 2010 and plays in the AMNRL competition. The Pittsburgh Harlequins are a rugby union team also based in Cheswick. The Pittsburgh Harlequins Rugby Club was founded in 1973 by a group of University of Pittsburgh law students . The organization has an active roster of 45 players and an alumni roster inclusive of more than 70 seasons of play. The Harlequins Rugby Club is a Division I member of the Mid-Atlantic Rugby Football Union . Over 300 active players wear the Harlequin jerseys every year at the Division 1 men's, Under 19, and Under 14 levels. In 1995, the Founders Field Center for Athletic Leadership was developed to support the Harlequins Men's and Youth programs. The 12-acre Founders Field facility includes lighting, irrigation, a clubhouse, locker rooms, concessions, and parking. The Pittsburgh Steeltoes , a Rugby sevens club with both a men's and women's team, was announced as an expansion team for the Premier Rugby Sevens in 2023. [ 50 ] Highmark Stadium hosted the 2023 Eastern Conference Final, marking the first ever professional rugby event held in the city. [ 51 ] Three of the Steeltoes' women represented their countries at the 2024 Summer Olympics : Kayla Canett and Sammy Sullivan for United States and Asia Hogan-Rochester for Canada , [ 52 ] winning bronze and silver, respectively. [ 53 ] Ultimate [ edit ] The Pittsburgh Thunderbirds are a professional ultimate team that competes in the Ultimate Frisbee Association (formerly known as the American Ultimate Disc League) since 2015. They play their home games at Highmark Stadium . Major league professional championships, awards, and events [ edit ] Pittsburgh Steelers (NFL) [ edit ] 6 Super Bowl titles 1974 ( IX ) 1975 ( X ) 1978 ( XIII ) 1979 ( XIV ) 2005 ( XL ) 2008 ( XLIII ) Pittsburgh Penguins (NHL) [ edit ] 5 Stanley Cup titles 1991 1992 2009 2016 2017 Pittsburgh Pirates (MLB) [ edit ] 5 World Series titles 1909 1925 1960 1971 1979 Homestead Grays (NNL) [ edit ] 3 Negro World Series titles 1943 1944 1948 Pittsburgh Pipers (ABA) [ edit ] 1 ABA Finals title 1968 Championship game/series appearances [ edit ] Franchise show Season [ a ] Pirates 1903 Pirates 1909 Pirates 1925 Pirates 1927 Grays 1942 Grays 1943 Grays 1944 Grays 1945 Grays 1948 Pirates 1960 Pipers 1967-68 Pirates 1971 Steelers 1974 Steelers 1975 Steelers 1978 Pirates 1979 Steelers 1979 Penguins 1990-91 Penguins 1991-92 Steelers 1995 Steelers 2005 Penguins 2007-08 Steelers 2008 Penguins 2008-09 Steelers 2010 Penguins 2015-2016 Penguins 2016-2017 Awards [ edit ] MVPs [ edit ] The following Pittsburgh players won the regular season most valuable player award of the NFL ( AP ), MLB , or NHL . Note that MLB confers an MVP award to one player in the American League and one player in the National League . Paul Waner , NL , 1927 Bill Dudley , NFL , 1946 Dick Groat , NL , 1960 Roberto Clemente , NL , 1966 Dave Parker , NL , 1978 Terry Bradshaw , NFL , 1978 Willie Stargell , NL , 1979 Mario Lemieux , NHL , 1987-88, 1992-93, 1995-96 Barry Bonds , NL , 1990, 1992 Jaromir Jagr , NHL , 1998-99 Sidney Crosby , NHL , 2006-07, 2012-13 Evgeni Malkin , NHL , 2011-12 Andrew McCutchen , NL , 2013 Other awards [ edit ] Player League Award show Year Vern Law NL Cy Young Award 1960 Joe Greene NFL Defensive Rookie of the Year 1969 Roberto Clemente NL World Series MVP 1971 Joe Greene NFL Defensive Player of the Year 1972 Franco Harris NFL Offensive Player of the Year 1972 Joe Greene NFL Defensive Player of the Year 1974 Jack Lambert NFL Defensive Rookie of the Year 1974 Franco Harris NFL Super Bowl MVP 1974 Mel Blount NFL Defensive Player of the Year 1975 Lynn Swann NFL Super Bowl MVP 1975 Jack Lambert NFL Defensive Player of the Year 1976 Terry Bradshaw NFL Super Bowl MVP 1978 Willie Stargell NL World Series MVP 1979 Terry Bradshaw NFL Super Bowl MVP 1979 Randy Carlyle NHL James Norris Memorial Trophy 1980-81 Louis Lipps NFL Offensive Rookie of the Year 1984 Mario Lemieux NHL Calder Memorial Trophy 1984-85 Mario Lemieux NHL Art Ross Trophy 1987-88 Mario Lemieux NHL Art Ross Trophy 1988-89 Doug Drabek NL Cy Young Award 1990 Jim Leyland NL Manager of the Year 1990 Mario Lemieux NHL Conn Smythe Trophy 1990-91 Mario Lemieux NHL Art Ross Trophy 1991-92 Mario Lemieux NHL Conn Smythe Trophy 1991-92 Jim Leyland NL Manager of the Year 1992 Mario Lemieux NHL Art Ross Trophy 1992-93 Rod Woodson NFL Defensive Player of the Year 1993 Jaromir Jagr NHL Art Ross Trophy 1994-95 Ron Francis NHL Frank J. Selke Trophy 1994-95 Mario Lemieux NHL Art Ross Trophy 1995-96 Mario Lemieux NHL Art Ross Trophy 1996-97 Jaromir Jagr NHL Art Ross Trophy 1997-98 Jaromir Jagr NHL Art Ross Trophy 1998-99 Jaromir Jagr NHL Art Ross Trophy 1999-2000 Jaromir Jagr NHL Art Ross Trophy 2000-01 Kendrell Bell NFL Defensive Rookie of the Year 2001 Jason Bay NL Rookie of the Year 2004 Ben Roethlisberger NHL Offensive Rookie of the Year 2004 Hines Ward NFL Super Bowl MVP 2005 Sidney Crosby NHL Art Ross Trophy 2006-07 Evgeni Malkin NHL Calder Memorial Trophy 2006-07 James Harrison NFL Defensive Player of the Year 2008 Santonio Holmes NFL Super Bowl MVP 2008 Evgeni Malkin NHL Art Ross Trophy 2008-09 Evgeni Malkin NHL Conn Smythe Trophy 2008-09 Sidney Crosby NHL Maurice \"Rocket\" Richard Trophy 2009-10 Troy Polamalu NFL Defensive Player of the Year 2010 Dan Bylsma NHL Jack Adams Trophy 2010-11 Evgeni Malkin NHL Art Ross Trophy 2011-12 Ray Shero NHL General Manager of the Year 2012-13 Clint Hurdle NL Manager of the Year 2013 Sidney Crosby NHL Art Ross Trophy 2013-14 Sidney Crosby NHL Conn Smythe Trophy 2015-16 Jim Rutherford NHL General Manager of the Year 2015-16 Sidney Crosby NHL Conn Smythe Trophy 2016-17 T.J. Watt NFL Defensive Player of the Year 2021 Paul Skenes NL Rookie of the Year 2024 Major sports events held in Pittsburgh [ edit ] Pittsburgh has hosted the following All-Star games and drafts : 1944 MLB All-Star Game 1948 NFL draft 1959 MLB All-Star Game 1974 MLB All-Star Game 1990 NHL All-Star Game 1994 MLB All-Star Game 1997 NHL draft 2006 MLB All-Star Game 2012 NHL draft Future [ edit ] 2026 NFL draft Other professional championships and awards [ edit ] Pittsburgh Passion (WFA) [ edit ] 1 NWFA title, 2 IWFL titles 2007 2014 2015 Steel City Yellow Jackets (ABA) [ edit ] 1 ABA title 2021-22 Pittsburgh Hornets (AHL) [ edit ] 3 Calder Cup titles 1951-52 1954-55 1966-67 Pittsburgh Triangles (WTT) [ edit ] 1 WTT title 1975 Awards [ edit ] MVPs [ edit ] The following Pittsburgh players won the regular season most valuable player award of the American Basketball Association , Major Indoor Soccer League , Arena Football League , Women's Football Alliance or USL Championship ). Note that WFA confers an MVP award to one player in the American Conference and one player in the National Conference. Connie Hawkins , ABA MVP , 1967-68 Stanisław Terlecki , MISL MVP, 1981-82 Russell Hairston , AFL MVP, 1987 José Angulo, USL Pro MVP, 2013 Albert Dikwa , USL Championship MVP, 2023 Marcelina Chavez, WFA National Conference MVP, 2024 Other awards [ edit ] Player Team League Award show Year Baz Bastien Hornets AHL Harry \"Hap\" Holmes Memorial Award 1947-48 Sid Smith Hornets AHL Carl Liscombe Trophy 1948-49 Baz Bastien Hornets AHL Harry \"Hap\" Holmes Memorial Award 1948-49 Gilles Mayer Hornets AHL Harry \"Hap\" Holmes Memorial Award 1950-51 Gilles Mayer Hornets AHL Harry \"Hap\" Holmes Memorial Award 1952-53 Gilles Mayer Hornets AHL Harry \"Hap\" Holmes Memorial Award 1953-54 Gilles Mayer Hornets AHL Harry \"Hap\" Holmes Memorial Award 1954-55 Gilles Mayer Hornets AHL Harry \"Hap\" Holmes Memorial Award 1955-56 Roger Crozier Hornets AHL Dudley \"Red\" Garrett Memorial Award 1963-64 Roger Crozier Hornets AHL Happy \"Hap\" Holmes Memorial Award 1963-64 Bob McCord Hornets AHL Eddie Shore Award 1966-67 Vince Cazzetta Pipers ABA ABA Coach of the Year Award 1967-68 Connie Hawkins Pipers ABA ABA Playoffs MVP 1967-68 Len Bilous Spirit MISL Coach of the Year 1979-80 Kevin Maher Spirit MISL Rookie of the Year 1983-84 Thomas Monroe Gladiators AFL AFL Ironman of the Year Award 1990 Joe Greenspan Riverhounds USLC Defender of the Year 2019 Danny Vitiello Riverhounds USLC Golden Glove 2020 Kenny Holmes Yellow Jackets ABA ABA Playoffs MVP 2022 Ben Pinkelman Steeltoes PR7s Men's Comeback Player of the Year 2023 Albert Dikwa Riverhounds USLC Golden Boot 2023 Arturo Ordoñez Riverhounds USLC Defender of the Year 2023 Bob Lilley Riverhounds USLC Coach of the Year 2023 Teresa Conn Passion WFA Coach of the Year 2024 Eric Dick Riverhounds USLC Golden Glove 2024 Eric Dick Riverhounds USLC Goalkeeper of the Year 2024 Individual sports and recreation [ edit ] Golf [ edit ] Golf has deep roots in the area with the region boasting the oldest course in continuous use in the nation: Foxburg Country Club dating from 1887. The suburban Oakmont Country Club has hosted the U.S.\n"
     ]
    }
   ],
   "source": [
    "for i in lengths.index:\n",
    "    if lengths[i] > 10000:\n",
    "        print(chunks[i].page_content)\n",
    "        break"
   ]
  },
  {
   "cell_type": "code",
   "execution_count": null,
   "metadata": {},
   "outputs": [
    {
     "name": "stdout",
     "output_type": "stream",
     "text": [
      "API call failed after 3 attempts: (400)\n",
      "Reason: Bad Request\n",
      "HTTP response headers: HTTPHeaderDict({'Date': 'Thu, 13 Mar 2025 16:47:28 GMT', 'Content-Type': 'application/json', 'Content-Length': '115', 'Connection': 'keep-alive', 'x-pinecone-request-latency-ms': '10', 'x-pinecone-request-id': '2389069407928395462', 'x-envoy-upstream-service-time': '2', 'server': 'envoy'})\n",
      "HTTP response body: {\"code\":3,\"message\":\"Metadata size is 59901 bytes, which exceeds the limit of 40960 bytes per vector\",\"details\":[]}\n",
      "\n"
     ]
    },
    {
     "ename": "PineconeApiException",
     "evalue": "(400)\nReason: Bad Request\nHTTP response headers: HTTPHeaderDict({'Date': 'Thu, 13 Mar 2025 16:47:28 GMT', 'Content-Type': 'application/json', 'Content-Length': '115', 'Connection': 'keep-alive', 'x-pinecone-request-latency-ms': '10', 'x-pinecone-request-id': '2389069407928395462', 'x-envoy-upstream-service-time': '2', 'server': 'envoy'})\nHTTP response body: {\"code\":3,\"message\":\"Metadata size is 59901 bytes, which exceeds the limit of 40960 bytes per vector\",\"details\":[]}\n",
     "output_type": "error",
     "traceback": [
      "\u001b[31m---------------------------------------------------------------------------\u001b[39m",
      "\u001b[31mPineconeApiException\u001b[39m                      Traceback (most recent call last)",
      "\u001b[36mCell\u001b[39m\u001b[36m \u001b[39m\u001b[32mIn[14]\u001b[39m\u001b[32m, line 1\u001b[39m\n\u001b[32m----> \u001b[39m\u001b[32m1\u001b[39m \u001b[43mvector_store\u001b[49m\u001b[43m.\u001b[49m\u001b[43madd_documents\u001b[49m\u001b[43m(\u001b[49m\u001b[43mchunks\u001b[49m\u001b[43m)\u001b[49m\n",
      "\u001b[36mFile \u001b[39m\u001b[32m/opt/pytorch/lib/python3.12/site-packages/langchain_core/vectorstores/base.py:287\u001b[39m, in \u001b[36mVectorStore.add_documents\u001b[39m\u001b[34m(self, documents, **kwargs)\u001b[39m\n\u001b[32m    285\u001b[39m     texts = [doc.page_content \u001b[38;5;28;01mfor\u001b[39;00m doc \u001b[38;5;129;01min\u001b[39;00m documents]\n\u001b[32m    286\u001b[39m     metadatas = [doc.metadata \u001b[38;5;28;01mfor\u001b[39;00m doc \u001b[38;5;129;01min\u001b[39;00m documents]\n\u001b[32m--> \u001b[39m\u001b[32m287\u001b[39m     \u001b[38;5;28;01mreturn\u001b[39;00m \u001b[38;5;28;43mself\u001b[39;49m\u001b[43m.\u001b[49m\u001b[43madd_texts\u001b[49m\u001b[43m(\u001b[49m\u001b[43mtexts\u001b[49m\u001b[43m,\u001b[49m\u001b[43m \u001b[49m\u001b[43mmetadatas\u001b[49m\u001b[43m,\u001b[49m\u001b[43m \u001b[49m\u001b[43m*\u001b[49m\u001b[43m*\u001b[49m\u001b[43mkwargs\u001b[49m\u001b[43m)\u001b[49m\n\u001b[32m    288\u001b[39m msg = (\n\u001b[32m    289\u001b[39m     \u001b[33mf\u001b[39m\u001b[33m\"\u001b[39m\u001b[33m`add_documents` and `add_texts` has not been implemented \u001b[39m\u001b[33m\"\u001b[39m\n\u001b[32m    290\u001b[39m     \u001b[33mf\u001b[39m\u001b[33m\"\u001b[39m\u001b[33mfor \u001b[39m\u001b[38;5;132;01m{\u001b[39;00m\u001b[38;5;28mself\u001b[39m.\u001b[34m__class__\u001b[39m.\u001b[34m__name__\u001b[39m\u001b[38;5;132;01m}\u001b[39;00m\u001b[33m \u001b[39m\u001b[33m\"\u001b[39m\n\u001b[32m    291\u001b[39m )\n\u001b[32m    292\u001b[39m \u001b[38;5;28;01mraise\u001b[39;00m \u001b[38;5;167;01mNotImplementedError\u001b[39;00m(msg)\n",
      "\u001b[36mFile \u001b[39m\u001b[32m/opt/pytorch/lib/python3.12/site-packages/langchain_pinecone/vectorstores.py:293\u001b[39m, in \u001b[36mPineconeVectorStore.add_texts\u001b[39m\u001b[34m(self, texts, metadatas, ids, namespace, batch_size, embedding_chunk_size, async_req, id_prefix, **kwargs)\u001b[39m\n\u001b[32m    282\u001b[39m \u001b[38;5;28;01mif\u001b[39;00m async_req:\n\u001b[32m    283\u001b[39m     \u001b[38;5;66;03m# Runs the pinecone upsert asynchronously.\u001b[39;00m\n\u001b[32m    284\u001b[39m     async_res = [\n\u001b[32m    285\u001b[39m         \u001b[38;5;28mself\u001b[39m._index.upsert(\n\u001b[32m    286\u001b[39m             vectors=batch_vector_tuples,\n\u001b[32m   (...)\u001b[39m\u001b[32m    291\u001b[39m         \u001b[38;5;28;01mfor\u001b[39;00m batch_vector_tuples \u001b[38;5;129;01min\u001b[39;00m batch_iterate(batch_size, vector_tuples)\n\u001b[32m    292\u001b[39m     ]\n\u001b[32m--> \u001b[39m\u001b[32m293\u001b[39m     [\u001b[43mres\u001b[49m\u001b[43m.\u001b[49m\u001b[43mget\u001b[49m\u001b[43m(\u001b[49m\u001b[43m)\u001b[49m \u001b[38;5;28;01mfor\u001b[39;00m res \u001b[38;5;129;01min\u001b[39;00m async_res]\n\u001b[32m    294\u001b[39m \u001b[38;5;28;01melse\u001b[39;00m:\n\u001b[32m    295\u001b[39m     \u001b[38;5;28mself\u001b[39m._index.upsert(\n\u001b[32m    296\u001b[39m         vectors=vector_tuples,\n\u001b[32m    297\u001b[39m         namespace=namespace,\n\u001b[32m    298\u001b[39m         async_req=async_req,\n\u001b[32m    299\u001b[39m         **kwargs,\n\u001b[32m    300\u001b[39m     )\n",
      "\u001b[36mFile \u001b[39m\u001b[32m/usr/local/lib/python3.12/multiprocessing/pool.py:774\u001b[39m, in \u001b[36mApplyResult.get\u001b[39m\u001b[34m(self, timeout)\u001b[39m\n\u001b[32m    772\u001b[39m     \u001b[38;5;28;01mreturn\u001b[39;00m \u001b[38;5;28mself\u001b[39m._value\n\u001b[32m    773\u001b[39m \u001b[38;5;28;01melse\u001b[39;00m:\n\u001b[32m--> \u001b[39m\u001b[32m774\u001b[39m     \u001b[38;5;28;01mraise\u001b[39;00m \u001b[38;5;28mself\u001b[39m._value\n",
      "\u001b[36mFile \u001b[39m\u001b[32m/usr/local/lib/python3.12/multiprocessing/pool.py:125\u001b[39m, in \u001b[36mworker\u001b[39m\u001b[34m(inqueue, outqueue, initializer, initargs, maxtasks, wrap_exception)\u001b[39m\n\u001b[32m    123\u001b[39m job, i, func, args, kwds = task\n\u001b[32m    124\u001b[39m \u001b[38;5;28;01mtry\u001b[39;00m:\n\u001b[32m--> \u001b[39m\u001b[32m125\u001b[39m     result = (\u001b[38;5;28;01mTrue\u001b[39;00m, \u001b[43mfunc\u001b[49m\u001b[43m(\u001b[49m\u001b[43m*\u001b[49m\u001b[43margs\u001b[49m\u001b[43m,\u001b[49m\u001b[43m \u001b[49m\u001b[43m*\u001b[49m\u001b[43m*\u001b[49m\u001b[43mkwds\u001b[49m\u001b[43m)\u001b[49m)\n\u001b[32m    126\u001b[39m \u001b[38;5;28;01mexcept\u001b[39;00m \u001b[38;5;167;01mException\u001b[39;00m \u001b[38;5;28;01mas\u001b[39;00m e:\n\u001b[32m    127\u001b[39m     \u001b[38;5;28;01mif\u001b[39;00m wrap_exception \u001b[38;5;129;01mand\u001b[39;00m func \u001b[38;5;129;01mis\u001b[39;00m \u001b[38;5;129;01mnot\u001b[39;00m _helper_reraises_exception:\n",
      "\u001b[36mFile \u001b[39m\u001b[32m/opt/pytorch/lib/python3.12/site-packages/pinecone/core/openapi/shared/api_client.py:21\u001b[39m, in \u001b[36mretry_api_call\u001b[39m\u001b[34m(func, args, kwargs, retries, backoff, jitter)\u001b[39m\n\u001b[32m     19\u001b[39m \u001b[38;5;28;01mwhile\u001b[39;00m attempts < retries:\n\u001b[32m     20\u001b[39m     \u001b[38;5;28;01mtry\u001b[39;00m:\n\u001b[32m---> \u001b[39m\u001b[32m21\u001b[39m         \u001b[38;5;28;01mreturn\u001b[39;00m \u001b[43mfunc\u001b[49m\u001b[43m(\u001b[49m\u001b[43m*\u001b[49m\u001b[43margs\u001b[49m\u001b[43m,\u001b[49m\u001b[43m \u001b[49m\u001b[43m*\u001b[49m\u001b[43m*\u001b[49m\u001b[43mkwargs\u001b[49m\u001b[43m)\u001b[49m  \u001b[38;5;66;03m# Attempt to call __call_api\u001b[39;00m\n\u001b[32m     22\u001b[39m     \u001b[38;5;28;01mexcept\u001b[39;00m \u001b[38;5;167;01mException\u001b[39;00m \u001b[38;5;28;01mas\u001b[39;00m e:\n\u001b[32m     23\u001b[39m         attempts += \u001b[32m1\u001b[39m\n",
      "\u001b[36mFile \u001b[39m\u001b[32m/opt/pytorch/lib/python3.12/site-packages/pinecone/core/openapi/shared/api_client.py:216\u001b[39m, in \u001b[36mApiClient.__call_api\u001b[39m\u001b[34m(self, resource_path, method, path_params, query_params, header_params, body, post_params, files, response_type, auth_settings, _return_http_data_only, collection_formats, _preload_content, _request_timeout, _host, _check_type)\u001b[39m\n\u001b[32m    214\u001b[39m \u001b[38;5;28;01mexcept\u001b[39;00m PineconeApiException \u001b[38;5;28;01mas\u001b[39;00m e:\n\u001b[32m    215\u001b[39m     e.body = e.body.decode(\u001b[33m\"\u001b[39m\u001b[33mutf-8\u001b[39m\u001b[33m\"\u001b[39m)\n\u001b[32m--> \u001b[39m\u001b[32m216\u001b[39m     \u001b[38;5;28;01mraise\u001b[39;00m e\n\u001b[32m    218\u001b[39m \u001b[38;5;28mself\u001b[39m.last_response = response_data\n\u001b[32m    220\u001b[39m return_data = response_data\n",
      "\u001b[36mFile \u001b[39m\u001b[32m/opt/pytorch/lib/python3.12/site-packages/pinecone/core/openapi/shared/api_client.py:204\u001b[39m, in \u001b[36mApiClient.__call_api\u001b[39m\u001b[34m(self, resource_path, method, path_params, query_params, header_params, body, post_params, files, response_type, auth_settings, _return_http_data_only, collection_formats, _preload_content, _request_timeout, _host, _check_type)\u001b[39m\n\u001b[32m    200\u001b[39m     url = _host + resource_path\n\u001b[32m    202\u001b[39m \u001b[38;5;28;01mtry\u001b[39;00m:\n\u001b[32m    203\u001b[39m     \u001b[38;5;66;03m# perform request and return response\u001b[39;00m\n\u001b[32m--> \u001b[39m\u001b[32m204\u001b[39m     response_data = \u001b[38;5;28;43mself\u001b[39;49m\u001b[43m.\u001b[49m\u001b[43mrequest\u001b[49m\u001b[43m(\u001b[49m\n\u001b[32m    205\u001b[39m \u001b[43m        \u001b[49m\u001b[43mmethod\u001b[49m\u001b[43m,\u001b[49m\n\u001b[32m    206\u001b[39m \u001b[43m        \u001b[49m\u001b[43murl\u001b[49m\u001b[43m,\u001b[49m\n\u001b[32m    207\u001b[39m \u001b[43m        \u001b[49m\u001b[43mquery_params\u001b[49m\u001b[43m=\u001b[49m\u001b[43mquery_params\u001b[49m\u001b[43m,\u001b[49m\n\u001b[32m    208\u001b[39m \u001b[43m        \u001b[49m\u001b[43mheaders\u001b[49m\u001b[43m=\u001b[49m\u001b[43mheader_params\u001b[49m\u001b[43m,\u001b[49m\n\u001b[32m    209\u001b[39m \u001b[43m        \u001b[49m\u001b[43mpost_params\u001b[49m\u001b[43m=\u001b[49m\u001b[43mpost_params\u001b[49m\u001b[43m,\u001b[49m\n\u001b[32m    210\u001b[39m \u001b[43m        \u001b[49m\u001b[43mbody\u001b[49m\u001b[43m=\u001b[49m\u001b[43mbody\u001b[49m\u001b[43m,\u001b[49m\n\u001b[32m    211\u001b[39m \u001b[43m        \u001b[49m\u001b[43m_preload_content\u001b[49m\u001b[43m=\u001b[49m\u001b[43m_preload_content\u001b[49m\u001b[43m,\u001b[49m\n\u001b[32m    212\u001b[39m \u001b[43m        \u001b[49m\u001b[43m_request_timeout\u001b[49m\u001b[43m=\u001b[49m\u001b[43m_request_timeout\u001b[49m\u001b[43m,\u001b[49m\n\u001b[32m    213\u001b[39m \u001b[43m    \u001b[49m\u001b[43m)\u001b[49m\n\u001b[32m    214\u001b[39m \u001b[38;5;28;01mexcept\u001b[39;00m PineconeApiException \u001b[38;5;28;01mas\u001b[39;00m e:\n\u001b[32m    215\u001b[39m     e.body = e.body.decode(\u001b[33m\"\u001b[39m\u001b[33mutf-8\u001b[39m\u001b[33m\"\u001b[39m)\n",
      "\u001b[36mFile \u001b[39m\u001b[32m/opt/pytorch/lib/python3.12/site-packages/pinecone/core/openapi/shared/api_client.py:518\u001b[39m, in \u001b[36mApiClient.request\u001b[39m\u001b[34m(self, method, url, query_params, headers, post_params, body, _preload_content, _request_timeout)\u001b[39m\n\u001b[32m    508\u001b[39m     \u001b[38;5;28;01mreturn\u001b[39;00m \u001b[38;5;28mself\u001b[39m.rest_client.OPTIONS(\n\u001b[32m    509\u001b[39m         url,\n\u001b[32m    510\u001b[39m         query_params=query_params,\n\u001b[32m   (...)\u001b[39m\u001b[32m    515\u001b[39m         body=body,\n\u001b[32m    516\u001b[39m     )\n\u001b[32m    517\u001b[39m \u001b[38;5;28;01melif\u001b[39;00m method == \u001b[33m\"\u001b[39m\u001b[33mPOST\u001b[39m\u001b[33m\"\u001b[39m:\n\u001b[32m--> \u001b[39m\u001b[32m518\u001b[39m     \u001b[38;5;28;01mreturn\u001b[39;00m \u001b[38;5;28;43mself\u001b[39;49m\u001b[43m.\u001b[49m\u001b[43mrest_client\u001b[49m\u001b[43m.\u001b[49m\u001b[43mPOST\u001b[49m\u001b[43m(\u001b[49m\n\u001b[32m    519\u001b[39m \u001b[43m        \u001b[49m\u001b[43murl\u001b[49m\u001b[43m,\u001b[49m\n\u001b[32m    520\u001b[39m \u001b[43m        \u001b[49m\u001b[43mquery_params\u001b[49m\u001b[43m=\u001b[49m\u001b[43mquery_params\u001b[49m\u001b[43m,\u001b[49m\n\u001b[32m    521\u001b[39m \u001b[43m        \u001b[49m\u001b[43mheaders\u001b[49m\u001b[43m=\u001b[49m\u001b[43mheaders\u001b[49m\u001b[43m,\u001b[49m\n\u001b[32m    522\u001b[39m \u001b[43m        \u001b[49m\u001b[43mpost_params\u001b[49m\u001b[43m=\u001b[49m\u001b[43mpost_params\u001b[49m\u001b[43m,\u001b[49m\n\u001b[32m    523\u001b[39m \u001b[43m        \u001b[49m\u001b[43m_preload_content\u001b[49m\u001b[43m=\u001b[49m\u001b[43m_preload_content\u001b[49m\u001b[43m,\u001b[49m\n\u001b[32m    524\u001b[39m \u001b[43m        \u001b[49m\u001b[43m_request_timeout\u001b[49m\u001b[43m=\u001b[49m\u001b[43m_request_timeout\u001b[49m\u001b[43m,\u001b[49m\n\u001b[32m    525\u001b[39m \u001b[43m        \u001b[49m\u001b[43mbody\u001b[49m\u001b[43m=\u001b[49m\u001b[43mbody\u001b[49m\u001b[43m,\u001b[49m\n\u001b[32m    526\u001b[39m \u001b[43m    \u001b[49m\u001b[43m)\u001b[49m\n\u001b[32m    527\u001b[39m \u001b[38;5;28;01melif\u001b[39;00m method == \u001b[33m\"\u001b[39m\u001b[33mPUT\u001b[39m\u001b[33m\"\u001b[39m:\n\u001b[32m    528\u001b[39m     \u001b[38;5;28;01mreturn\u001b[39;00m \u001b[38;5;28mself\u001b[39m.rest_client.PUT(\n\u001b[32m    529\u001b[39m         url,\n\u001b[32m    530\u001b[39m         query_params=query_params,\n\u001b[32m   (...)\u001b[39m\u001b[32m    535\u001b[39m         body=body,\n\u001b[32m    536\u001b[39m     )\n",
      "\u001b[36mFile \u001b[39m\u001b[32m/opt/pytorch/lib/python3.12/site-packages/pinecone/core/openapi/shared/rest.py:345\u001b[39m, in \u001b[36mRESTClientObject.POST\u001b[39m\u001b[34m(self, url, headers, query_params, post_params, body, _preload_content, _request_timeout)\u001b[39m\n\u001b[32m    335\u001b[39m \u001b[38;5;28;01mdef\u001b[39;00m\u001b[38;5;250m \u001b[39m\u001b[34mPOST\u001b[39m(\n\u001b[32m    336\u001b[39m     \u001b[38;5;28mself\u001b[39m,\n\u001b[32m    337\u001b[39m     url,\n\u001b[32m   (...)\u001b[39m\u001b[32m    343\u001b[39m     _request_timeout=\u001b[38;5;28;01mNone\u001b[39;00m,\n\u001b[32m    344\u001b[39m ):\n\u001b[32m--> \u001b[39m\u001b[32m345\u001b[39m     \u001b[38;5;28;01mreturn\u001b[39;00m \u001b[38;5;28;43mself\u001b[39;49m\u001b[43m.\u001b[49m\u001b[43mrequest\u001b[49m\u001b[43m(\u001b[49m\n\u001b[32m    346\u001b[39m \u001b[43m        \u001b[49m\u001b[33;43m\"\u001b[39;49m\u001b[33;43mPOST\u001b[39;49m\u001b[33;43m\"\u001b[39;49m\u001b[43m,\u001b[49m\n\u001b[32m    347\u001b[39m \u001b[43m        \u001b[49m\u001b[43murl\u001b[49m\u001b[43m,\u001b[49m\n\u001b[32m    348\u001b[39m \u001b[43m        \u001b[49m\u001b[43mheaders\u001b[49m\u001b[43m=\u001b[49m\u001b[43mheaders\u001b[49m\u001b[43m,\u001b[49m\n\u001b[32m    349\u001b[39m \u001b[43m        \u001b[49m\u001b[43mquery_params\u001b[49m\u001b[43m=\u001b[49m\u001b[43mquery_params\u001b[49m\u001b[43m,\u001b[49m\n\u001b[32m    350\u001b[39m \u001b[43m        \u001b[49m\u001b[43mpost_params\u001b[49m\u001b[43m=\u001b[49m\u001b[43mpost_params\u001b[49m\u001b[43m,\u001b[49m\n\u001b[32m    351\u001b[39m \u001b[43m        \u001b[49m\u001b[43m_preload_content\u001b[49m\u001b[43m=\u001b[49m\u001b[43m_preload_content\u001b[49m\u001b[43m,\u001b[49m\n\u001b[32m    352\u001b[39m \u001b[43m        \u001b[49m\u001b[43m_request_timeout\u001b[49m\u001b[43m=\u001b[49m\u001b[43m_request_timeout\u001b[49m\u001b[43m,\u001b[49m\n\u001b[32m    353\u001b[39m \u001b[43m        \u001b[49m\u001b[43mbody\u001b[49m\u001b[43m=\u001b[49m\u001b[43mbody\u001b[49m\u001b[43m,\u001b[49m\n\u001b[32m    354\u001b[39m \u001b[43m    \u001b[49m\u001b[43m)\u001b[49m\n",
      "\u001b[36mFile \u001b[39m\u001b[32m/opt/pytorch/lib/python3.12/site-packages/pinecone/core/openapi/shared/rest.py:279\u001b[39m, in \u001b[36mRESTClientObject.request\u001b[39m\u001b[34m(self, method, url, query_params, headers, body, post_params, _preload_content, _request_timeout)\u001b[39m\n\u001b[32m    276\u001b[39m     \u001b[38;5;28;01mif\u001b[39;00m \u001b[32m500\u001b[39m <= r.status <= \u001b[32m599\u001b[39m:\n\u001b[32m    277\u001b[39m         \u001b[38;5;28;01mraise\u001b[39;00m ServiceException(http_resp=r)\n\u001b[32m--> \u001b[39m\u001b[32m279\u001b[39m     \u001b[38;5;28;01mraise\u001b[39;00m PineconeApiException(http_resp=r)\n\u001b[32m    281\u001b[39m \u001b[38;5;28;01mreturn\u001b[39;00m r\n",
      "\u001b[31mPineconeApiException\u001b[39m: (400)\nReason: Bad Request\nHTTP response headers: HTTPHeaderDict({'Date': 'Thu, 13 Mar 2025 16:47:28 GMT', 'Content-Type': 'application/json', 'Content-Length': '115', 'Connection': 'keep-alive', 'x-pinecone-request-latency-ms': '10', 'x-pinecone-request-id': '2389069407928395462', 'x-envoy-upstream-service-time': '2', 'server': 'envoy'})\nHTTP response body: {\"code\":3,\"message\":\"Metadata size is 59901 bytes, which exceeds the limit of 40960 bytes per vector\",\"details\":[]}\n"
     ]
    },
    {
     "name": "stdout",
     "output_type": "stream",
     "text": [
      "API call failed after 3 attempts: (400)\n",
      "Reason: Bad Request\n",
      "HTTP response headers: HTTPHeaderDict({'Date': 'Thu, 13 Mar 2025 16:47:31 GMT', 'Content-Type': 'application/json', 'Content-Length': '115', 'Connection': 'keep-alive', 'x-pinecone-request-latency-ms': '12', 'x-pinecone-request-id': '1269923821580933383', 'x-envoy-upstream-service-time': '2', 'server': 'envoy'})\n",
      "HTTP response body: {\"code\":3,\"message\":\"Metadata size is 73711 bytes, which exceeds the limit of 40960 bytes per vector\",\"details\":[]}\n",
      "\n",
      "API call failed after 3 attempts: (400)\n",
      "Reason: Bad Request\n",
      "HTTP response headers: HTTPHeaderDict({'Date': 'Thu, 13 Mar 2025 16:47:35 GMT', 'Content-Type': 'application/json', 'Content-Length': '115', 'Connection': 'keep-alive', 'x-pinecone-request-latency-ms': '10', 'x-pinecone-request-id': '2799722801074898343', 'x-envoy-upstream-service-time': '1', 'server': 'envoy'})\n",
      "HTTP response body: {\"code\":3,\"message\":\"Metadata size is 76768 bytes, which exceeds the limit of 40960 bytes per vector\",\"details\":[]}\n",
      "\n",
      "API call failed after 3 attempts: (400)\n",
      "Reason: Bad Request\n",
      "HTTP response headers: HTTPHeaderDict({'Date': 'Thu, 13 Mar 2025 16:47:40 GMT', 'Content-Type': 'application/json', 'Content-Length': '115', 'Connection': 'keep-alive', 'x-pinecone-request-latency-ms': '13', 'x-pinecone-request-id': '5922311583722997288', 'x-envoy-upstream-service-time': '2', 'server': 'envoy'})\n",
      "HTTP response body: {\"code\":3,\"message\":\"Metadata size is 53707 bytes, which exceeds the limit of 40960 bytes per vector\",\"details\":[]}\n",
      "\n"
     ]
    }
   ],
   "source": [
    "vector_store.add_documents(chunks)"
   ]
  },
  {
   "cell_type": "code",
   "execution_count": null,
   "metadata": {},
   "outputs": [],
   "source": [
    "max_length = 10000\n",
    "\n",
    "re_chunks = []"
   ]
  }
 ],
 "metadata": {
  "kernelspec": {
   "display_name": "pytorch",
   "language": "python",
   "name": "python3"
  },
  "language_info": {
   "codemirror_mode": {
    "name": "ipython",
    "version": 3
   },
   "file_extension": ".py",
   "mimetype": "text/x-python",
   "name": "python",
   "nbconvert_exporter": "python",
   "pygments_lexer": "ipython3",
   "version": "3.12.6"
  }
 },
 "nbformat": 4,
 "nbformat_minor": 2
}
