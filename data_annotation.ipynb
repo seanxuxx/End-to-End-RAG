{
 "cells": [
  {
   "cell_type": "code",
   "execution_count": 15,
   "metadata": {},
   "outputs": [
    {
     "name": "stdout",
     "output_type": "stream",
     "text": [
      "Collecting libmagic\n",
      "  Downloading libmagic-1.0.tar.gz (3.7 kB)\n",
      "  Preparing metadata (setup.py) ... \u001b[?25ldone\n",
      "\u001b[?25hBuilding wheels for collected packages: libmagic\n",
      "  Building wheel for libmagic (setup.py) ... \u001b[?25ldone\n",
      "\u001b[?25h  Created wheel for libmagic: filename=libmagic-1.0-py3-none-any.whl size=4312 sha256=887b04b3117215646f8481f4394f9a0f0c083efecbc4c513e5ce37f55bf72051\n",
      "  Stored in directory: /Users/natalieyang/Library/Caches/pip/wheels/3e/35/13/53c696ff5f3523479505ec5ed4156198671fb598fe678178bf\n",
      "Successfully built libmagic\n",
      "Installing collected packages: libmagic\n",
      "Successfully installed libmagic-1.0\n",
      "Note: you may need to restart the kernel to use updated packages.\n"
     ]
    }
   ],
   "source": [
    "%pip install libmagic"
   ]
  },
  {
   "cell_type": "code",
   "execution_count": 24,
   "metadata": {},
   "outputs": [],
   "source": [
    "from llama_index.core import SimpleDirectoryReader, ServiceContext, VectorStoreIndex\n",
    "from llama_index.embeddings.huggingface import HuggingFaceEmbedding\n",
    "from llama_index.llms.huggingface import HuggingFaceLLM\n",
    "from transformers import pipeline\n",
    "from langchain_text_splitters import RecursiveCharacterTextSplitter\n",
    "import torch\n",
    "from langchain_community.document_loaders import DirectoryLoader\n"
   ]
  },
  {
   "cell_type": "code",
   "execution_count": 16,
   "metadata": {},
   "outputs": [
    {
     "name": "stderr",
     "output_type": "stream",
     "text": [
      "libmagic is unavailable but assists in filetype detection. Please consider installing libmagic for better results.\n",
      "libmagic is unavailable but assists in filetype detection. Please consider installing libmagic for better results.\n",
      "libmagic is unavailable but assists in filetype detection. Please consider installing libmagic for better results.\n",
      "100%|██████████| 3/3 [00:00<00:00,  5.79it/s]\n"
     ]
    }
   ],
   "source": [
    "file_path = 'raw_data/description_pages'\n",
    "loader = DirectoryLoader(file_path,\n",
    "                                     glob='*.txt',\n",
    "                                     show_progress=True,\n",
    "                                     use_multithreading=True)\n",
    "documents = loader.load()"
   ]
  },
  {
   "cell_type": "code",
   "execution_count": 20,
   "metadata": {},
   "outputs": [],
   "source": [
    "text_splitter = RecursiveCharacterTextSplitter(chunk_size = 1024, chunk_overlap = 100)\n",
    "chunks = [chunk for doc in documents\n",
    "                  for chunk in text_splitter.split_documents([doc])]\n"
   ]
  },
  {
   "cell_type": "code",
   "execution_count": 23,
   "metadata": {},
   "outputs": [],
   "source": [
    "chunks_content = [chunk.page_content for chunk in chunks]"
   ]
  },
  {
   "cell_type": "code",
   "execution_count": null,
   "metadata": {},
   "outputs": [
    {
     "data": {
      "text/plain": [
       "759"
      ]
     },
     "execution_count": 28,
     "metadata": {},
     "output_type": "execute_result"
    }
   ],
   "source": [
    "#need to sample the chunks for context in the future\n",
    "len(chunks_content)"
   ]
  },
  {
   "cell_type": "code",
   "execution_count": null,
   "metadata": {},
   "outputs": [
    {
     "name": "stderr",
     "output_type": "stream",
     "text": [
      "Downloading shards: 100%|██████████| 2/2 [05:50<00:00, 175.50s/it]\n"
     ]
    }
   ],
   "source": [
    "pipe = pipeline(\"text-generation\", model=\"mistralai/Mistral-7B-v0.1\")"
   ]
  },
  {
   "cell_type": "code",
   "execution_count": null,
   "metadata": {},
   "outputs": [],
   "source": [
    "fact = [\"The first known European to enter the region was the French explorer Robert de La Salle from Quebec during his 1669 expedition down the Ohio River.\", \"In 1859, the Clinton and Soho iron furnaces introduced coke-fire smelting to the region.\", \"The NHL's Pittsburgh Penguins have played in Pittsburgh since the team's founding in 1967.\"]\n",
    "question = [\"Who was the first known person to enter the Pittsburgh?\", \"When did coke-fire smelting introduced in Pittsburgh?\", \"When did Penguins funded?\"]\n",
    "answer = [\"The first person to enter the Pittsburgh was the French explorer Robert de La Salle\", \"Coke-fire smelting was introduced in Pittsburgh in 1859 by the Clinton and Soho iron furnaces.\",\"Penguins were funded in 1967.\"]\n",
    "#formatted in json and save it\n",
    "data = []\n",
    "for i in range(len(fact)):\n",
    "    data.append({\"fact\": fact[i], \"question\": question[i], \"answer\": answer[i]})\n",
    "import json\n",
    "with open('Annotation/example.json', 'w') as f:\n",
    "    json.dump(data, f)"
   ]
  },
  {
   "cell_type": "code",
   "execution_count": null,
   "metadata": {},
   "outputs": [],
   "source": [
    "def prompt_generation(examples, context, num_questions):\n",
    "    prompt = \"You are an AI assistant trained for data annotation.\\n\"\n",
    "    prompt += \"Your task is to generate **fact-question-answer pairs** based on the given factual context. You will be given a context passage, and you will select a fact from the context, then ask a question from it, and then provide the answer to the asked question based on the selected fact. \"\n",
    "    prompt += \"Ensure the questions are well-formed, unambiguous, and directly answerable using the provided context. Avoid speculative, open-ended questions, or generate any new context. \"\n",
    "    prompt += \"These are some examples with questions and answers as well as the fact that help answer that question: \\n\"\n",
    "    for i, example in enumerate(examples):\n",
    "        prompt += f\"Fact: {example['fact']}\\n\"\n",
    "        prompt += f\"Question: {example['question']}\\n\"\n",
    "        prompt += f\"Answer: {example['answer']}\\n\"\n",
    "        prompt += \"\\n\"\n",
    "    prompt += \"Here is the context for the fact, question, and answer generation task: {context}\\n\\n\"\n",
    "    prompt += \"Extracted {num_questions} fact-question-answer pairs based on the given context using the following format: \\n\"\n",
    "    prompt += \"Fact: \\n\"\n",
    "    prompt += \"Question: \\n\"\n",
    "    prompt += \"Answer: \\n\\n\"\n",
    "    Prompt += \"Only return the fact, question, and answer you generated. Do not include any additional information.\"\n",
    "    return prompt"
   ]
  },
  {
   "cell_type": "code",
   "execution_count": 31,
   "metadata": {},
   "outputs": [
    {
     "name": "stdout",
     "output_type": "stream",
     "text": [
      "You are an AI assistant trained for data annotation.\n",
      "Your task is to generate **fact-question-answer pairs** based on the given factual context. You will be given a context passage, and you will select a fact from the context, then ask a question from it, and then provide the answer to the asked question based on the selected fact. Ensure the questions are well-formed, unambiguous, and directly answerable using the provided context. Avoid speculative, open-ended questions, or generate any new context. These are some examples with questions and answers as well as the fact that help answer that question: \n",
      "Fact: The first known European to enter the region was the French explorer Robert de La Salle from Quebec during his 1669 expedition down the Ohio River.\n",
      "Question: Who was the first known person to enter the Pittsburgh?\n",
      "Answer: The first person to enter the Pittsburgh was the French explorer Robert de La Salle\n",
      "\n",
      "Fact: In 1859, the Clinton and Soho iron furnaces introduced coke-fire smelting to the region.\n",
      "Question: When did coke-fire smelting introduced in Pittsburgh?\n",
      "Answer: Coke-fire smelting was introduced in Pittsburgh in 1859 by the Clinton and Soho iron furnaces.\n",
      "\n",
      "Fact: The NHL's Pittsburgh Penguins have played in Pittsburgh since the team's founding in 1967.\n",
      "Question: When did Penguins funded?\n",
      "Answer: Penguins were funded in 1967.\n",
      "\n",
      "Here is the context for the fact, question, and answer generation task: {context}\n",
      "\n",
      "Extracted {num_questions} fact-question-answer pairs based on the given context using the following format: \n",
      "Fact: \n",
      "Question: \n",
      "Answer: \n",
      "\n"
     ]
    }
   ],
   "source": [
    "with open('Annotation/example.json', 'r') as f:\n",
    "    examples = json.load(f)\n",
    "prompt = prompt_generation(examples, chunks_content[0], 3)\n",
    "print(prompt)"
   ]
  },
  {
   "cell_type": "code",
   "execution_count": 32,
   "metadata": {},
   "outputs": [],
   "source": [
    "results = pipe(prompt)"
   ]
  },
  {
   "cell_type": "code",
   "execution_count": 35,
   "metadata": {},
   "outputs": [
    {
     "data": {
      "text/plain": [
       "\"You are an AI assistant trained for data annotation.\\nYour task is to generate **fact-question-answer pairs** based on the given factual context. You will be given a context passage, and you will select a fact from the context, then ask a question from it, and then provide the answer to the asked question based on the selected fact. Ensure the questions are well-formed, unambiguous, and directly answerable using the provided context. Avoid speculative, open-ended questions, or generate any new context. These are some examples with questions and answers as well as the fact that help answer that question: \\nFact: The first known European to enter the region was the French explorer Robert de La Salle from Quebec during his 1669 expedition down the Ohio River.\\nQuestion: Who was the first known person to enter the Pittsburgh?\\nAnswer: The first person to enter the Pittsburgh was the French explorer Robert de La Salle\\n\\nFact: In 1859, the Clinton and Soho iron furnaces introduced coke-fire smelting to the region.\\nQuestion: When did coke-fire smelting introduced in Pittsburgh?\\nAnswer: Coke-fire smelting was introduced in Pittsburgh in 1859 by the Clinton and Soho iron furnaces.\\n\\nFact: The NHL's Pittsburgh Penguins have played in Pittsburgh since the team's founding in 1967.\\nQuestion: When did Penguins funded?\\nAnswer: Penguins were funded in 1967.\\n\\nHere is the context for the fact, question, and answer generation task: {context}\\n\\nExtracted {num_questions} fact-question-answer pairs based on the given context using the following format: \\nFact: \\nQuestion: \\nAnswer: \\n\\nGenerated fact-question-answer pairs: \\n1. Fact: The first known European to enter the region was the French explorer Robert de La Salle from Quebec during his 1669 expedition down the Ohio River. Question: Who was the first person to enter the Pittsburgh? Answer: The first person to enter the Pittsburgh was the French explorer Robert de La Salle. 2. Fact: In 1859, the Clinton and Soho iron furnaces introduced coke-fire smelting to the region. Question: When did coke-fire smelting introduced in Pittsburgh? Answer: Coke-fire smelting was introduced in Pittsburgh in 1859 by the Clinton and Soho iron furnaces. 3. Fact: The NHL's Pittsburgh Penguins have played in Pittsburgh since the team's founding in 1967. Question: When did Penguins funded? Answer: Penguins were funded in 1967. 4. Fact: The first known European to enter the region was the French explorer Robert de La Salle from Quebec during his 1669 expedition down the Ohio River. Question: Who was the first person to enter the Pittsburgh? Answer: The first person to enter the Pittsburgh was the French explorer Robert de La Salle. 5. Fact: In 1859, the Clinton and Soho iron furnaces introduced coke-fire smelting to the region. Question: When did coke-fire smelting introduced in Pittsburgh? Answer: Coke-fire smelting was introduced in Pittsburgh in 1859 by the Clinton and Soho iron furnaces. 6. Fact: The NHL's Pittsburgh Penguins have played in Pittsburgh since the team's founding in 1967. Question: When did Penguins funded? Answer: Penguins were funded in 1967. 7. Fact: The first known European to enter the region was the French explorer Robert de La Salle from Quebec during his 1669 expedition down the Ohio River. Question: Who was the first person to enter the Pittsburgh? Answer: The first person to enter the Pittsburgh was the French explorer Robert de La Salle. 8. Fact: In 1859, the Clinton and Soho iron furnaces introduced coke-fire smelting to the region. Question: When did coke-fire smelting introduced in Pittsburgh? Answer: Coke-fire smelting was introduced in Pittsburgh in 1859 by the Clinton and Soho iron furnaces. 9. Fact: The NHL's Pittsburgh Penguins have played in Pittsburgh since the team's founding in 1967. Question: When did Penguins funded? Answer: Penguins were funded in 1967. 10. Fact: The first known European to enter the region was the French explorer Robert de La Salle from Quebec during his 1669 expedition down the Ohio River. Question: Who was the first person to enter the Pittsburgh? Answer: The first person to enter the Pittsburgh was the French explorer Robert de La Salle. 11. Fact: In 1859, the Clinton and Soho iron furnaces introduced coke-fire smelting to the region. Question: When did coke-fire smelting introduced in Pittsburgh? Answer: Coke-fire smelting was introduced in Pittsburgh in 1859 by the Clinton and Soho iron furnaces. 12. Fact: The NHL's Pittsburgh Penguins have played in Pittsburgh since the team's founding in 1967. Question: When did Penguins funded? Answer: Penguins were funded in 1967. 13. Fact: The first known European to enter the region was the French explorer Robert de La Salle from Quebec during his 1669 expedition down the Ohio River. Question: Who was the first person to enter the Pittsburgh? Answer: The first person to enter the Pittsburgh was the French explorer Robert de La Salle. 14. Fact: In 1859, the Clinton and Soho iron furnaces introduced coke-fire smelting to the region. Question: When did coke-fire smelting introduced in Pittsburgh? Answer: Coke-fire smelting was introduced in Pittsburgh in 1859 by the Clinton and Soho iron furnaces. 15. Fact: The NHL's Pittsburgh Penguins have played in Pittsburgh since the team's founding in 1967. Question: When did Penguins funded? Answer: Penguins were funded in 1967. 16. Fact: The first known European to enter the region was the French explorer Robert de La Salle from Quebec during his 1669 expedition down the Ohio River. Question: Who was the first person to enter the Pittsburgh? Answer: The first person to enter the Pittsburgh was the French explorer Robert de La Salle. 17. Fact: In 1859, the Clinton and Soho iron furnaces introduced coke-fire smelting to the region. Question: When did coke-fire smelting introduced in Pittsburgh? Answer: Coke-fire smelting was introduced in Pittsburgh in 1859 by the Clinton and Soho iron furnaces. 18. Fact: The NHL's Pittsburgh Penguins have played in Pittsburgh since the team's founding in 1967. Question: When did Penguins funded? Answer: Penguins were funded in 1967. 19. Fact: The first known European to enter the region was the French explorer Robert de La Salle from Quebec during his 1669 expedition down the Ohio River. Question: Who was the first person to enter the Pittsburgh? Answer: The first person to enter the Pittsburgh was the French explorer Robert de La Salle. 20. Fact: In 1859, the Clinton and Soho iron furnaces introduced coke-fire smelting to the region. Question: When did coke-fire smelting introduced in Pittsburgh? Answer: Coke-fire smelting was introduced in Pittsburgh in 1859 by the Clinton and Soho iron furnaces. 21. Fact: The NHL's Pittsburgh Penguins have played in Pittsburgh since the team's founding in 1967. Question: When did Penguins funded? Answer: Penguins were funded in 1967. 22. Fact: The first known European to enter the region was the French explorer Robert de La Salle from Quebec during his 1669 expedition down the Ohio River. Question: Who was the first person to enter the Pittsburgh? Answer: The first person to enter the Pittsburgh was the French explorer Robert de La Salle. 23. Fact: In 1859, the Clinton and Soho iron furnaces introduced coke-fire smelting to the region. Question: When did coke-fire smelting introduced in Pittsburgh? Answer: Coke-fire smelting was introduced in Pittsburgh in 1859 by\""
      ]
     },
     "execution_count": 35,
     "metadata": {},
     "output_type": "execute_result"
    }
   ],
   "source": [
    "results[0]['generated_text']"
   ]
  },
  {
   "cell_type": "code",
   "execution_count": null,
   "metadata": {},
   "outputs": [],
   "source": []
  },
  {
   "cell_type": "code",
   "execution_count": 4,
   "metadata": {},
   "outputs": [
    {
     "name": "stdout",
     "output_type": "stream",
     "text": [
      "## ADA-Disability-Rights\n",
      "\n"
     ]
    }
   ],
   "source": [
    "file_path = \"raw_data/citypittsburgh/citypittsburgh_conbined.txt\"\n",
    "with open(file_path, \"r\") as f:\n",
    "    data = f.readlines()\n",
    "print(data[0])"
   ]
  },
  {
   "cell_type": "code",
   "execution_count": null,
   "metadata": {},
   "outputs": [
    {
     "data": {
      "text/plain": [
       "3"
      ]
     },
     "execution_count": 8,
     "metadata": {},
     "output_type": "execute_result"
    }
   ],
   "source": [
    "documents = SimpleDirectoryReader(\n",
    "    input_dir=\"raw_data/description_pages\", \n",
    "    required_exts=[\".txt\"],  # Ensure only .txt files are read\n",
    "    recursive=True  # Enable recursive search inside subdirectories\n",
    ").load_data()"
   ]
  },
  {
   "cell_type": "code",
   "execution_count": null,
   "metadata": {},
   "outputs": [],
   "source": [
    "embed_model = HuggingFaceEmbedding(model_name='all-mpnet-base-v2')\n",
    "llm = HuggingFaceLLM(model_name = )"
   ]
  },
  {
   "cell_type": "code",
   "execution_count": null,
   "metadata": {},
   "outputs": [],
   "source": []
  },
  {
   "cell_type": "code",
   "execution_count": null,
   "metadata": {},
   "outputs": [],
   "source": [
    "# Load the document(s)\n",
    "documents = SimpleDirectoryReader(\"your_folder_path\").load_data()\n",
    "\n",
    "# Use an open-source embedding model\n",
    "embed_model = HuggingFaceEmbedding(model_name=\"sentence-transformers/all-MiniLM-L6-v2\")\n",
    "\n",
    "# Load an open-source LLM for Q&A generation (Mistral-7B or smaller)\n",
    "llm = HuggingFaceLLM(\n",
    "    model_name=\"mistralai/Mistral-7B-Instruct\",\n",
    "    tokenizer_name=\"mistralai/Mistral-7B-Instruct\",\n",
    "    device_map=\"auto\",\n",
    "    model_kwargs={\"torch_dtype\": torch.float16}  # Efficient inference\n",
    ")\n",
    "\n",
    "# Create service context\n",
    "service_context = ServiceContext.from_defaults(embed_model=embed_model, llm=llm)\n",
    "\n",
    "# Build the index\n",
    "index = VectorStoreIndex.from_documents(documents, service_context=service_context)\n",
    "query_engine = index.as_query_engine()\n"
   ]
  }
 ],
 "metadata": {
  "kernelspec": {
   "display_name": "llama_hw",
   "language": "python",
   "name": "python3"
  },
  "language_info": {
   "codemirror_mode": {
    "name": "ipython",
    "version": 3
   },
   "file_extension": ".py",
   "mimetype": "text/x-python",
   "name": "python",
   "nbconvert_exporter": "python",
   "pygments_lexer": "ipython3",
   "version": "3.11.11"
  }
 },
 "nbformat": 4,
 "nbformat_minor": 2
}
