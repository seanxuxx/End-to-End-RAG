{
 "cells": [
  {
   "cell_type": "code",
   "execution_count": null,
   "metadata": {},
   "outputs": [],
   "source": [
    "import os "
   ]
  },
  {
   "cell_type": "code",
   "execution_count": null,
   "metadata": {},
   "outputs": [],
   "source": [
    "full_content = []\n",
    "output_file = \"raw_data/citypittsburgh/citypittsburgh_conbined.txt\"\n",
    "folder_path = \"raw_data/citypittsburgh\"\n",
    "\n",
    "for filename in os.listdir(folder_path):\n",
    "    if filename.endswith(\".txt\"):\n",
    "        file_path = os.path.join(folder_path, filename)\n",
    "        headname = filename[:-4]\n",
    "    with open(file_path, \"r\", encoding=\"utf-8\") as file:\n",
    "        lines = file.readlines()\n",
    "        start_index = None\n",
    "        for i, line in enumerate(lines):\n",
    "            if 'Select the Escape key to close the menu. Focus will then be set to the first menu item.' in line:\n",
    "                    start_index = i + 1  \n",
    "                    break\n",
    "        if start_index is not None:\n",
    "            content = lines[start_index:]\n",
    "            full_content.append(f\"## {headname}\\n\")\n",
    "            full_content.extend(content)\n",
    "            full_content.append(\"\\n\\n\\n\")  # Add double space line for partition\n",
    "        else:\n",
    "            content = lines\n",
    "            full_content.append(f\"## {headname}\\n\")\n",
    "            full_content.extend(content)\n",
    "            full_content.append(\"\\n\\n\\n\")\n",
    "with open(output_file, \"w\", encoding=\"utf-8\") as file:\n",
    "    file.writelines(full_content)\n",
    "    print(f\"Combined {len(full_content)} files into {output_file}\")\n",
    "        "
   ]
  },
  {
   "cell_type": "code",
   "execution_count": null,
   "metadata": {},
   "outputs": [],
   "source": [
    "full_content = []\n",
    "output_file = \"raw_data/pittsburghvisit/pittsburghvisit_conbined.txt\"\n",
    "folder_path = \"raw_data/pittsburghvisit\"\n",
    "\n",
    "for filename in os.listdir(folder_path):\n",
    "    if filename.endswith(\".txt\"):\n",
    "        file_path = os.path.join(folder_path, filename)\n",
    "        headname = filename[:-4]\n",
    "    with open(file_path, \"r\", encoding=\"utf-8\") as file:\n",
    "        lines = file.readlines()\n",
    "        end_index = None\n",
    "        for i, line in enumerate(lines):\n",
    "            if '120 Fifth Avenue Fifth Avenue Place Suite 2800 Pittsburgh, PA 15222' in line:\n",
    "                    end_index = i\n",
    "                    break\n",
    "\n",
    "        if end_index is not None:\n",
    "            content = lines[:end_index]\n",
    "            full_content.append(f\"## {headname}\\n\")\n",
    "            full_content.extend(content)\n",
    "            full_content.append(\"\\n\\n\\n\")  # Add double space line for partition\n",
    "        else:\n",
    "            content = lines\n",
    "            full_content.append(f\"## {headname}\\n\")\n",
    "            full_content.extend(content)\n",
    "            full_content.append(\"\\n\\n\\n\")\n",
    "with open(output_file, \"w\", encoding=\"utf-8\") as file:\n",
    "    file.writelines(full_content)\n",
    "    print(f\"Combined {len(full_content)} files into {output_file}\")\n",
    "        "
   ]
  }
 ],
 "metadata": {
  "kernelspec": {
   "display_name": "llama_hw",
   "language": "python",
   "name": "python3"
  },
  "language_info": {
   "codemirror_mode": {
    "name": "ipython",
    "version": 3
   },
   "file_extension": ".py",
   "mimetype": "text/x-python",
   "name": "python",
   "nbconvert_exporter": "python",
   "pygments_lexer": "ipython3",
   "version": "3.11.11"
  }
 },
 "nbformat": 4,
 "nbformat_minor": 2
}
