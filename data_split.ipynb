{
 "cells": [
  {
   "cell_type": "code",
   "execution_count": 26,
   "metadata": {},
   "outputs": [],
   "source": [
    "# test data with \n",
    "import os\n",
    "import random\n",
    "import json"
   ]
  },
  {
   "cell_type": "code",
   "execution_count": 27,
   "metadata": {},
   "outputs": [],
   "source": [
    "train = []\n",
    "test = []\n",
    "folder = 'Annotation'\n",
    "for file in os.listdir(folder):\n",
    "    if file.endswith('txt') and 'restaurant_week' not in file:\n",
    "        #every file in the folder is a different topic, thus ensureing the diversity of the question\n",
    "        with open(os.path.join(folder, file),'r') as f:\n",
    "            content = f.read()\n",
    "            content_list = content.strip().split('\\n\\n')\n",
    "            train_list = random.sample(content_list,10)\n",
    "            test_list =  [x for x in content_list if x not in train_list]\n",
    "            train.extend(train_list)\n",
    "            test.extend(test_list)"
   ]
  },
  {
   "cell_type": "code",
   "execution_count": 28,
   "metadata": {},
   "outputs": [],
   "source": [
    "#write the data into json\n",
    "folder = 'Annotation/train_testdata'\n",
    "train_content = [{'Question':x.split('\\n')[0].removeprefix('<Generated>Question: ').strip(),\n",
    "          'Answer': x.split('\\n')[1].removeprefix('Answer: ').strip()} for x in train]\n",
    "test_content = [{'Question':x.split('\\n')[0].removeprefix('<Generated>Question: ').strip(),\n",
    "            'Answer': x.split('\\n')[1].removeprefix('Answer: ').strip()} for x in test]\n",
    "folder = 'Annotation/train_testdata'\n",
    "with open(os.path.join(folder,'train.json'),'w') as f:\n",
    "    json.dump(train_content,f)\n",
    "with open(os.path.join(folder,'test.json'),'w') as f:\n",
    "    json.dump(test_content,f)"
   ]
  },
  {
   "cell_type": "code",
   "execution_count": 29,
   "metadata": {},
   "outputs": [],
   "source": [
    "qualitycheck_test = random.sample(test_content, 50)"
   ]
  },
  {
   "cell_type": "code",
   "execution_count": 30,
   "metadata": {},
   "outputs": [],
   "source": [
    "with open(os.path.join(folder,'qualitycheck_test.json'),'w') as f:\n",
    "    json.dump(qualitycheck_test,f)"
   ]
  }
 ],
 "metadata": {
  "kernelspec": {
   "display_name": "llama_hw",
   "language": "python",
   "name": "python3"
  },
  "language_info": {
   "codemirror_mode": {
    "name": "ipython",
    "version": 3
   },
   "file_extension": ".py",
   "mimetype": "text/x-python",
   "name": "python",
   "nbconvert_exporter": "python",
   "pygments_lexer": "ipython3",
   "version": "3.11.11"
  }
 },
 "nbformat": 4,
 "nbformat_minor": 2
}
