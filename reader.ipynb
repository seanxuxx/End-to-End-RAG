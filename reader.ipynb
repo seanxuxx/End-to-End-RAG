{
 "cells": [
  {
   "cell_type": "code",
   "execution_count": 1,
   "metadata": {},
   "outputs": [
    {
     "name": "stderr",
     "output_type": "stream",
     "text": [
      "USER_AGENT environment variable not set, consider setting it to identify your requests.\n"
     ]
    }
   ],
   "source": [
    "import re\n",
    "\n",
    "import bs4\n",
    "import torch\n",
    "from langchain import hub\n",
    "from langchain_community.document_loaders import WebBaseLoader\n",
    "from langchain_core.documents import Document\n",
    "from langchain_huggingface.embeddings.huggingface import HuggingFaceEmbeddings\n",
    "from langchain_openai import OpenAIEmbeddings\n",
    "from langchain_pinecone import PineconeVectorStore\n",
    "from langchain_text_splitters import RecursiveCharacterTextSplitter\n",
    "from pinecone import Pinecone, ServerlessSpec\n",
    "from transformers import (AutoModelForCausalLM, AutoTokenizer,\n",
    "                          BitsAndBytesConfig, pipeline)\n",
    "from typing_extensions import List, TypedDict"
   ]
  },
  {
   "cell_type": "code",
   "execution_count": 2,
   "metadata": {},
   "outputs": [
    {
     "data": {
      "text/plain": [
       "'cuda'"
      ]
     },
     "execution_count": 2,
     "metadata": {},
     "output_type": "execute_result"
    }
   ],
   "source": [
    "DEVICE = ('cuda' if torch.cuda.is_available() else\n",
    "          'mps' if torch.backends.mps.is_available() else 'cpu')\n",
    "DEVICE"
   ]
  },
  {
   "cell_type": "code",
   "execution_count": null,
   "metadata": {},
   "outputs": [],
   "source": [
    "embeddings = HuggingFaceEmbeddings(model_name='all-mpnet-base-v2',\n",
    "                                   model_kwargs={'device': DEVICE})"
   ]
  },
  {
   "cell_type": "code",
   "execution_count": null,
   "metadata": {},
   "outputs": [],
   "source": [
    "index_name = 'all-mpnet-base-v2-character-chunker-500-100'\n",
    "pc = Pinecone()\n",
    "index = pc.Index(index_name)\n",
    "vector_store = PineconeVectorStore(embedding=embeddings, index=index)"
   ]
  },
  {
   "cell_type": "code",
   "execution_count": null,
   "metadata": {},
   "outputs": [],
   "source": [
    "# <Generated>Question: When is the Vintage Pittsburgh retro fair taking place?\n",
    "# Answer: The Vintage Pittsburgh retro fair is taking place on April 5, 2025."
   ]
  },
  {
   "cell_type": "code",
   "execution_count": null,
   "metadata": {},
   "outputs": [],
   "source": [
    "question = \"When is the Vintage Pittsburgh retro fair taking place?\""
   ]
  },
  {
   "cell_type": "code",
   "execution_count": null,
   "metadata": {},
   "outputs": [],
   "source": [
    "class Query(TypedDict):\n",
    "    question: str\n",
    "    context: List[Document]\n",
    "    answer: str\n",
    "\n",
    "\n",
    "query = Query(question=question, context=[], answer=\"\")"
   ]
  },
  {
   "cell_type": "code",
   "execution_count": null,
   "metadata": {},
   "outputs": [],
   "source": [
    "retriever = vector_store.as_retriever(\n",
    "    search_type=\"similarity\",\n",
    "    search_kwargs={\"k\": 5},\n",
    ")\n",
    "\n",
    "retrieved_docs = retriever.invoke(query['question'])"
   ]
  },
  {
   "cell_type": "code",
   "execution_count": null,
   "metadata": {},
   "outputs": [],
   "source": [
    "print(\"\\n--- Relevant Documents ---\")\n",
    "for i, doc in enumerate(retrieved_docs, 1):\n",
    "    print(f\"Document {i}:\\n{doc.page_content}\\n\")\n",
    "    if doc.metadata:\n",
    "        print(f\"Source: {doc.metadata.get('source', 'Unknown')}\\n\")"
   ]
  },
  {
   "cell_type": "code",
   "execution_count": null,
   "metadata": {},
   "outputs": [],
   "source": [
    "model_name = 'mistralai/Mistral-7B-Instruct-v0.2'"
   ]
  },
  {
   "cell_type": "code",
   "execution_count": null,
   "metadata": {},
   "outputs": [],
   "source": [
    "tokenizer = AutoTokenizer.from_pretrained(model_name)"
   ]
  },
  {
   "cell_type": "code",
   "execution_count": null,
   "metadata": {},
   "outputs": [],
   "source": [
    "if not tokenizer.pad_token:\n",
    "    tokenizer.pad_token = tokenizer.eos_token"
   ]
  },
  {
   "cell_type": "code",
   "execution_count": null,
   "metadata": {},
   "outputs": [],
   "source": [
    "torch.cuda.empty_cache()\n",
    "torch.cuda.ipc_collect()\n",
    "llm = pipeline(\"text-generation\", model=model_name, tokenizer=tokenizer,\n",
    "               torch_dtype=torch.bfloat16, device=DEVICE)"
   ]
  },
  {
   "cell_type": "code",
   "execution_count": null,
   "metadata": {},
   "outputs": [],
   "source": [
    "retrieved_docs_text = [doc.page_content for doc in retrieved_docs]\n",
    "context = \"\".join([\"\\n\" + doc for i, doc in enumerate(retrieved_docs_text)])\n",
    "print(context)"
   ]
  },
  {
   "cell_type": "code",
   "execution_count": null,
   "metadata": {},
   "outputs": [],
   "source": [
    "# Provide the number of the source document when relevant.\n",
    "\n",
    "prompt_in_chat_format = [\n",
    "    {\n",
    "        \"role\": \"system\",\n",
    "        \"content\": \"\"\"Using the information contained in the context,\n",
    "give a comprehensive answer to the question.\n",
    "Respond only to the question asked, response should be concise and relevant to the question.\n",
    "If the answer cannot be deduced from the context, do not give an answer.\"\"\",\n",
    "    },\n",
    "    {\n",
    "        \"role\": \"user\",\n",
    "        \"content\": \"\"\"Context:\n",
    "{context}\n",
    "---\n",
    "Now here is the question you need to answer.\n",
    "\n",
    "Question: {question}\"\"\",\n",
    "    },\n",
    "]\n",
    "RAG_PROMPT_TEMPLATE = llm.tokenizer.apply_chat_template(\n",
    "    prompt_in_chat_format, tokenize=False, add_generation_prompt=True\n",
    ")\n",
    "print(RAG_PROMPT_TEMPLATE)"
   ]
  },
  {
   "cell_type": "code",
   "execution_count": null,
   "metadata": {},
   "outputs": [],
   "source": [
    "prompt = RAG_PROMPT_TEMPLATE.format(question=query['question'], context=context)\n",
    "print(prompt)"
   ]
  },
  {
   "cell_type": "code",
   "execution_count": null,
   "metadata": {},
   "outputs": [],
   "source": [
    "query['answer'] =llm(prompt)[0][\"generated_text\"]  # type: ignore"
   ]
  },
  {
   "cell_type": "code",
   "execution_count": null,
   "metadata": {},
   "outputs": [],
   "source": [
    "print(query['answer'])"
   ]
  },
  {
   "cell_type": "code",
   "execution_count": null,
   "metadata": {},
   "outputs": [],
   "source": [
    "llm(prompt, return_full_text=False)"
   ]
  },
  {
   "cell_type": "code",
   "execution_count": 3,
   "metadata": {},
   "outputs": [],
   "source": [
    "from rag_pipeline import Query, DataStore, RetrivalLLM"
   ]
  },
  {
   "cell_type": "code",
   "execution_count": 4,
   "metadata": {},
   "outputs": [
    {
     "data": {
      "application/vnd.jupyter.widget-view+json": {
       "model_id": "fbe2e165d4fb416c9cc397c61e849e1d",
       "version_major": 2,
       "version_minor": 0
      },
      "text/plain": [
       "Loading checkpoint shards:   0%|          | 0/3 [00:00<?, ?it/s]"
      ]
     },
     "metadata": {},
     "output_type": "display_data"
    },
    {
     "name": "stderr",
     "output_type": "stream",
     "text": [
      "Device set to use cuda\n"
     ]
    }
   ],
   "source": [
    "data_store = DataStore(\n",
    "    model_name='all-mpnet-base-v2',\n",
    "    chunker_name='character_chunker',\n",
    "    dir_to_chunk='raw_data',\n",
    "    dir_preformatted='formatted_data',\n",
    "    is_upsert_data=False\n",
    ")\n",
    "\n",
    "model_name = 'mistralai/Mistral-7B-Instruct-v0.2'\n",
    "rag_model = RetrivalLLM(model_name=model_name, data_store=data_store)"
   ]
  },
  {
   "cell_type": "code",
   "execution_count": 7,
   "metadata": {},
   "outputs": [
    {
     "data": {
      "text/plain": [
       "'</s>'"
      ]
     },
     "execution_count": 7,
     "metadata": {},
     "output_type": "execute_result"
    }
   ],
   "source": [
    "rag_model.llm.tokenizer.pad_token"
   ]
  },
  {
   "cell_type": "code",
   "execution_count": 8,
   "metadata": {},
   "outputs": [
    {
     "data": {
      "text/plain": [
       "tensor([-0.8051, -0.7840, -0.1125,  0.8382,  0.2850,  0.8885,  0.8883, -0.6970,\n",
       "         0.1646,  1.4678], device='cuda:0')"
      ]
     },
     "execution_count": 8,
     "metadata": {},
     "output_type": "execute_result"
    }
   ],
   "source": [
    "torch.randn(10).cuda()"
   ]
  },
  {
   "cell_type": "code",
   "execution_count": 9,
   "metadata": {},
   "outputs": [],
   "source": [
    "question = \"When is the Vintage Pittsburgh retro fair taking place?\"\n",
    "query = Query(question=question, context=[], answer=\"\")\n",
    "rag_model.query_answer(query)"
   ]
  },
  {
   "cell_type": "code",
   "execution_count": 10,
   "metadata": {},
   "outputs": [
    {
     "data": {
      "text/plain": [
       "{'question': 'When is the Vintage Pittsburgh retro fair taking place?',\n",
       " 'context': [Document(id='character_chunker_8996_raw_data_museums_heinz_history_center_txt', metadata={'source': 'raw_data/museums/heinz_history_center.txt'}, page_content='TITLE: Vintage Pittsburgh - Heinz History Center\\n\\nCONTENT:\\n\\nVintage Pittsburgh\\n\\nEvent Information\\n\\nOld is new again at the Heinz History Center’s 11th annual Vintage Pittsburgh retro fair!\\n\\nPresented in partnership with the Neighborhood Flea, you’re invited to shop ‘til you drop for far-out finds and groovy goods on Saturday, April 5. Dozens of local makers and vendors will be on site to sell one-of-a-kind clothing, accessories, home décor, vinyl records, and more!'),\n",
       "  Document(id='character_chunker_8998_raw_data_museums_heinz_history_center_txt', metadata={'source': 'raw_data/museums/heinz_history_center.txt'}, page_content='Admission\\n\\nVintage Pittsburgh is included with regular museum admission.\\n\\nEarly Bird tickets, which grant visitors early access to the vendor fair from 9 a.m. to 10 a.m., are an additional $5 per ticket. A limited amount are available, reserve yours today.\\n\\n================================================================================\\n\\nURL: https://www.heinzhistorycenter.org/events\\n\\nTITLE: Events for March 2025 – Heinz History Center\\n\\nCONTENT:\\n\\nEvent Calendar\\n\\nMarch 12'),\n",
       "  Document(id='character_chunker_5769_raw_data_events_food_related_summer_festivals_and_events_in_pittsburgh___visit_pittsburgh___visit_pittsburgh_txt', metadata={'source': 'raw_data/events_food_related/summer_festivals_and_events_in_pittsburgh___visit_pittsburgh___visit_pittsburgh.txt'}, page_content=\"Pittsburgh Vintage Grand Prix | July 26-Aug. 4, 2024. Experience the nation’s only vintage street race and the largest vintage race event, spanning 10 days with two race weekends, car shows, parties, parades and motorsport events.\\n\\nGoat Fest | July 27, 2024. This festival is the goat, literally. This festival, held in South Side Park, is full of live music, children's activities, goat yoga and food trucks as goats feed off invasive vines to be replaced with native species.\"),\n",
       "  Document(id='character_chunker_7249_raw_data_events_food_related_pittsburgh_irish_festival___september_6_8__2024_txt', metadata={'source': 'raw_data/events_food_related/pittsburgh_irish_festival___september_6-8__2024.txt'}, page_content='FESTIVAL INFORMATION. 2025 FESTIVAL DATES:Friday, September 5 (4pm – 11pm)Saturday, September 6 (11am – 11pm)Sunday, September 7 (9am – 5pm). FESTIVAL LOCATION:Carrie Blast Furnaces National Historic Landmark801 Carrie Furnace Blvd.Pittsburgh, PA 15218Get Directions.\\n\\nTICKETS.\\n\\nPurchase Here!\\n\\nTickets are date specific!\\n\\nSee All Ticket Options.'),\n",
       "  Document(id='character_chunker_8986_raw_data_museums_heinz_history_center_txt', metadata={'source': 'raw_data/museums/heinz_history_center.txt'}, page_content='Old is new again at the Heinz History Center’s 11th annual Vintage Pittsburgh retro fair!\\n\\nApril 28\\n\\nSpring Educator Open House\\n\\nExplore the museum and learn about History Center teacher resources.\\n\\nJune 5\\n\\n32nd Annual History Makers Award Dinner\\n\\nSave the date!\\n\\n================================================================================\\n\\nURL: https://www.heinzhistorycenter.org/event/national-history-day-pittsburgh-03152025\\n\\nTITLE: National History Day Pittsburgh - Heinz History Center')],\n",
       " 'answer': 'The Vintage Pittsburgh retro fair is taking place on April 5, 2024.'}"
      ]
     },
     "execution_count": 10,
     "metadata": {},
     "output_type": "execute_result"
    }
   ],
   "source": [
    "query"
   ]
  },
  {
   "cell_type": "code",
   "execution_count": null,
   "metadata": {},
   "outputs": [],
   "source": []
  }
 ],
 "metadata": {
  "kernelspec": {
   "display_name": "pytorch",
   "language": "python",
   "name": "python3"
  },
  "language_info": {
   "codemirror_mode": {
    "name": "ipython",
    "version": 3
   },
   "file_extension": ".py",
   "mimetype": "text/x-python",
   "name": "python",
   "nbconvert_exporter": "python",
   "pygments_lexer": "ipython3",
   "version": "3.12.6"
  }
 },
 "nbformat": 4,
 "nbformat_minor": 2
}
