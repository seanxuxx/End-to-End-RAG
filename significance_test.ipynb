{
 "cells": [
  {
   "cell_type": "code",
   "execution_count": 3,
   "metadata": {},
   "outputs": [],
   "source": [
    "import json\n",
    "from significance_test import PowerAnalyzer"
   ]
  },
  {
   "cell_type": "code",
   "execution_count": 7,
   "metadata": {},
   "outputs": [],
   "source": [
    "def load_json(evaluation_final_path, evaluation_baseline_path):\n",
    "    with open(evaluation_final_path, 'r', encoding='utf-8') as file:\n",
    "        final_data = json.load(file)\n",
    "    with open(evaluation_baseline_path, 'r', encoding='utf-8') as file:\n",
    "        baseline_data = json.load(file)\n",
    "    final_data_recall = [item['max_recall'] for item in final_data[:-1]]\n",
    "    final_data_f1 = [item['max_f1'] for item in final_data[:-1]]\n",
    "    final_data_em = [int(item['exact_match']) for item in final_data[:-1]]\n",
    "\n",
    "    baseline_data_recall = [item['max_recall'] for item in baseline_data[:-1]]\n",
    "    baseline_data_f1 = [item['max_f1'] for item in baseline_data[:-1]]\n",
    "    baseline_data_em = [int(item['exact_match']) for item in baseline_data[:-1]]\n",
    "    return final_data_recall, final_data_f1,final_data_em, baseline_data_recall, baseline_data_f1, baseline_data_em"
   ]
  },
  {
   "cell_type": "code",
   "execution_count": 8,
   "metadata": {},
   "outputs": [],
   "source": [
    "# evaluating optimal 1\n",
    "op1_recall, op1_f1,op1_em, baseline_recall, baseline_f1, baseline_em = load_json('./system_outputs/optimal1/evaluation.json',\n",
    "                                                             './system_outputs/baseline3/evaluation.json')"
   ]
  },
  {
   "cell_type": "code",
   "execution_count": 13,
   "metadata": {},
   "outputs": [
    {
     "data": {
      "text/plain": [
       "(1.9470483112996195e-59, True)"
      ]
     },
     "execution_count": 13,
     "metadata": {},
     "output_type": "execute_result"
    }
   ],
   "source": [
    "PowerAnalyzer.test_continuous_significance(baseline_f1, op1_f1,0.05, test_type='t-test')"
   ]
  },
  {
   "cell_type": "code",
   "execution_count": 14,
   "metadata": {},
   "outputs": [
    {
     "data": {
      "text/plain": [
       "(1.799015029126359e-43, True)"
      ]
     },
     "execution_count": 14,
     "metadata": {},
     "output_type": "execute_result"
    }
   ],
   "source": [
    "PowerAnalyzer.test_continuous_significance(baseline_recall, op1_recall,0.05, test_type='t-test')"
   ]
  },
  {
   "cell_type": "code",
   "execution_count": 10,
   "metadata": {},
   "outputs": [
    {
     "data": {
      "text/plain": [
       "(2.947490327649641e-21, True)"
      ]
     },
     "execution_count": 10,
     "metadata": {},
     "output_type": "execute_result"
    }
   ],
   "source": [
    "PowerAnalyzer.test_continuous_significance(baseline_em, op1_em,0.05, test_type='t-test')"
   ]
  },
  {
   "cell_type": "code",
   "execution_count": 11,
   "metadata": {},
   "outputs": [],
   "source": [
    "# evaluating optimal 2\n",
    "op2_recall, op2_f1,op2_em, baseline_recall, baseline_f1,baseline_em = load_json('./system_outputs/optimal2/evaluation.json',\n",
    "                                                             './system_outputs/baseline3/evaluation.json')"
   ]
  },
  {
   "cell_type": "code",
   "execution_count": 21,
   "metadata": {},
   "outputs": [
    {
     "data": {
      "text/plain": [
       "(4.2442774191535267e-60, True)"
      ]
     },
     "execution_count": 21,
     "metadata": {},
     "output_type": "execute_result"
    }
   ],
   "source": [
    "PowerAnalyzer.test_continuous_significance(baseline_f1, op2_f1,0.05, test_type='t-test')"
   ]
  },
  {
   "cell_type": "code",
   "execution_count": 22,
   "metadata": {},
   "outputs": [
    {
     "data": {
      "text/plain": [
       "(2.5099249232192983e-40, True)"
      ]
     },
     "execution_count": 22,
     "metadata": {},
     "output_type": "execute_result"
    }
   ],
   "source": [
    "PowerAnalyzer.test_continuous_significance(baseline_recall, op2_recall,0.05, test_type='t-test')"
   ]
  },
  {
   "cell_type": "code",
   "execution_count": 12,
   "metadata": {},
   "outputs": [
    {
     "data": {
      "text/plain": [
       "(1.2189281328855038e-20, True)"
      ]
     },
     "execution_count": 12,
     "metadata": {},
     "output_type": "execute_result"
    }
   ],
   "source": [
    "PowerAnalyzer.test_continuous_significance(baseline_em, op2_em,0.05, test_type='t-test')"
   ]
  },
  {
   "cell_type": "code",
   "execution_count": 13,
   "metadata": {},
   "outputs": [],
   "source": [
    "# evaluating optimal 2\n",
    "best_recall, best_f1,best_em, baseline_recall, baseline_f1 ,baseline_em= load_json('./system_outputs/best/evaluation.json',\n",
    "                                                             './system_outputs/baseline3/evaluation.json')"
   ]
  },
  {
   "cell_type": "code",
   "execution_count": 28,
   "metadata": {},
   "outputs": [
    {
     "data": {
      "text/plain": [
       "(7.95662393477465e-62, True)"
      ]
     },
     "execution_count": 28,
     "metadata": {},
     "output_type": "execute_result"
    }
   ],
   "source": [
    "PowerAnalyzer.test_continuous_significance(baseline_f1, best_f1,0.05, test_type='t-test')"
   ]
  },
  {
   "cell_type": "code",
   "execution_count": 29,
   "metadata": {},
   "outputs": [
    {
     "data": {
      "text/plain": [
       "(3.000649564417027e-42, True)"
      ]
     },
     "execution_count": 29,
     "metadata": {},
     "output_type": "execute_result"
    }
   ],
   "source": [
    "PowerAnalyzer.test_continuous_significance(baseline_recall, best_recall,0.05, test_type='t-test')"
   ]
  },
  {
   "cell_type": "code",
   "execution_count": 14,
   "metadata": {},
   "outputs": [
    {
     "data": {
      "text/plain": [
       "(1.6455364776111862e-22, True)"
      ]
     },
     "execution_count": 14,
     "metadata": {},
     "output_type": "execute_result"
    }
   ],
   "source": [
    "PowerAnalyzer.test_continuous_significance(baseline_em, best_em,0.05, test_type='t-test')"
   ]
  },
  {
   "cell_type": "code",
   "execution_count": null,
   "metadata": {},
   "outputs": [],
   "source": []
  }
 ],
 "metadata": {
  "kernelspec": {
   "display_name": "base",
   "language": "python",
   "name": "python3"
  },
  "language_info": {
   "codemirror_mode": {
    "name": "ipython",
    "version": 3
   },
   "file_extension": ".py",
   "mimetype": "text/x-python",
   "name": "python",
   "nbconvert_exporter": "python",
   "pygments_lexer": "ipython3",
   "version": "3.12.2"
  }
 },
 "nbformat": 4,
 "nbformat_minor": 2
}
